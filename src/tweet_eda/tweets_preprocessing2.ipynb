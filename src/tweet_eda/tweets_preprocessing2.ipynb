{
  "nbformat": 4,
  "nbformat_minor": 0,
  "metadata": {
    "kernelspec": {
      "display_name": "Python 3",
      "language": "python",
      "name": "python3"
    },
    "language_info": {
      "codemirror_mode": {
        "name": "ipython",
        "version": 3
      },
      "file_extension": ".py",
      "mimetype": "text/x-python",
      "name": "python",
      "nbconvert_exporter": "python",
      "pygments_lexer": "ipython3",
      "version": "3.8.2"
    },
    "colab": {
      "name": "tweets_preprocessing2.ipynb",
      "provenance": []
    },
    "accelerator": "GPU"
  },
  "cells": [
    {
      "cell_type": "markdown",
      "metadata": {
        "id": "vlAg2o2Yd3On",
        "colab_type": "text"
      },
      "source": [
        "Author: Steven Vuong <br>\n",
        "Last Edited: 25/05/2020\n",
        "\n",
        "Here we pick off where we left off with the last preprocessing notebook. We have our processed raw tweets and want to apply another processing step. Firstly, we must open our processed data first.\n",
        "\n",
        "Note: Later on this wa modified for usage with Google Colab. Approached this because of a lack of GPUs"
      ]
    },
    {
      "cell_type": "code",
      "metadata": {
        "id": "IWKBp51Ud3Oo",
        "colab_type": "code",
        "colab": {
          "base_uri": "https://localhost:8080/",
          "height": 71
        },
        "outputId": "ebf40512-c8f3-4947-d39a-2753f9025183"
      },
      "source": [
        "# TODO: modularisse and put funcs in python files\n",
        "import pandas as pd\n",
        "import numpy as np\n",
        "import matplotlib.pyplot as plt\n",
        "import seaborn as sns\n",
        "\n",
        "%matplotlib inline"
      ],
      "execution_count": 1,
      "outputs": [
        {
          "output_type": "stream",
          "text": [
            "/usr/local/lib/python3.6/dist-packages/statsmodels/tools/_testing.py:19: FutureWarning: pandas.util.testing is deprecated. Use the functions in the public API at pandas.testing instead.\n",
            "  import pandas.util.testing as tm\n"
          ],
          "name": "stderr"
        }
      ]
    },
    {
      "cell_type": "code",
      "metadata": {
        "id": "Ox2N_9v7d3Os",
        "colab_type": "code",
        "colab": {}
      },
      "source": [
        "csv_savepath = 'tweets_processed.csv' #\"../../data/tweets_processed.pkl\"\n",
        "tweets_df = pd.read_csv(csv_savepath) "
      ],
      "execution_count": 0,
      "outputs": []
    },
    {
      "cell_type": "markdown",
      "metadata": {
        "id": "tN3_CiDCd3Ov",
        "colab_type": "text"
      },
      "source": [
        "We will drop the hashtags column as we have used this to create our predictive labels. It is possiblle that other features from this may be used to help predict other hashtags. For the time being, however, we will not consider it so. <br>\n",
        "In addition, we will drop our original tweet_text column as we have the processed form of it."
      ]
    },
    {
      "cell_type": "code",
      "metadata": {
        "id": "qWExoso4d3Ow",
        "colab_type": "code",
        "colab": {
          "base_uri": "https://localhost:8080/",
          "height": 377
        },
        "outputId": "67f97c6b-9d2c-4680-e9bb-104090aafc75"
      },
      "source": [
        "tweets_df = tweets_df.drop(['tweet_text', 'tweet_hashtags'], axis=1)\n",
        "tweets_df.head()"
      ],
      "execution_count": 3,
      "outputs": [
        {
          "output_type": "execute_result",
          "data": {
            "text/html": [
              "<div>\n",
              "<style scoped>\n",
              "    .dataframe tbody tr th:only-of-type {\n",
              "        vertical-align: middle;\n",
              "    }\n",
              "\n",
              "    .dataframe tbody tr th {\n",
              "        vertical-align: top;\n",
              "    }\n",
              "\n",
              "    .dataframe thead th {\n",
              "        text-align: right;\n",
              "    }\n",
              "</style>\n",
              "<table border=\"1\" class=\"dataframe\">\n",
              "  <thead>\n",
              "    <tr style=\"text-align: right;\">\n",
              "      <th></th>\n",
              "      <th>Unnamed: 0</th>\n",
              "      <th>tweet_creation_date</th>\n",
              "      <th>tweet_retweet_count</th>\n",
              "      <th>tweet_favourite_count</th>\n",
              "      <th>user_follow_count</th>\n",
              "      <th>user_created_at</th>\n",
              "      <th>user_verified</th>\n",
              "      <th>processed_tweets</th>\n",
              "      <th>covid_hashtag</th>\n",
              "    </tr>\n",
              "  </thead>\n",
              "  <tbody>\n",
              "    <tr>\n",
              "      <th>0</th>\n",
              "      <td>0</td>\n",
              "      <td>2020-05-17 14:36:25</td>\n",
              "      <td>111</td>\n",
              "      <td>0</td>\n",
              "      <td>32</td>\n",
              "      <td>2018-09-17 22:49:14</td>\n",
              "      <td>False</td>\n",
              "      <td>rt @jdfarag sun enter ‘lockdown’ period could ...</td>\n",
              "      <td>False</td>\n",
              "    </tr>\n",
              "    <tr>\n",
              "      <th>1</th>\n",
              "      <td>1</td>\n",
              "      <td>2020-05-17 14:27:49</td>\n",
              "      <td>0</td>\n",
              "      <td>0</td>\n",
              "      <td>974</td>\n",
              "      <td>2016-06-28 19:39:16</td>\n",
              "      <td>False</td>\n",
              "      <td>kenya pastoralists face hunger conflict locust...</td>\n",
              "      <td>False</td>\n",
              "    </tr>\n",
              "    <tr>\n",
              "      <th>2</th>\n",
              "      <td>2</td>\n",
              "      <td>2020-05-17 14:21:52</td>\n",
              "      <td>36</td>\n",
              "      <td>0</td>\n",
              "      <td>27</td>\n",
              "      <td>2010-05-29 12:41:00</td>\n",
              "      <td>False</td>\n",
              "      <td>rt @drvandanashiva essentialcommoditiesact use...</td>\n",
              "      <td>False</td>\n",
              "    </tr>\n",
              "    <tr>\n",
              "      <th>3</th>\n",
              "      <td>3</td>\n",
              "      <td>2020-05-17 14:15:25</td>\n",
              "      <td>0</td>\n",
              "      <td>0</td>\n",
              "      <td>836</td>\n",
              "      <td>2009-03-27 01:52:54</td>\n",
              "      <td>False</td>\n",
              "      <td>man could literally hunger entire world choose...</td>\n",
              "      <td>False</td>\n",
              "    </tr>\n",
              "    <tr>\n",
              "      <th>4</th>\n",
              "      <td>4</td>\n",
              "      <td>2020-05-17 14:14:25</td>\n",
              "      <td>7</td>\n",
              "      <td>0</td>\n",
              "      <td>375</td>\n",
              "      <td>2014-07-04 16:19:51</td>\n",
              "      <td>False</td>\n",
              "      <td>rt presidential april year president express c...</td>\n",
              "      <td>False</td>\n",
              "    </tr>\n",
              "  </tbody>\n",
              "</table>\n",
              "</div>"
            ],
            "text/plain": [
              "   Unnamed: 0  ... covid_hashtag\n",
              "0           0  ...         False\n",
              "1           1  ...         False\n",
              "2           2  ...         False\n",
              "3           3  ...         False\n",
              "4           4  ...         False\n",
              "\n",
              "[5 rows x 9 columns]"
            ]
          },
          "metadata": {
            "tags": []
          },
          "execution_count": 3
        }
      ]
    },
    {
      "cell_type": "markdown",
      "metadata": {
        "id": "UYnyMAR7d3O0",
        "colab_type": "text"
      },
      "source": [
        "In theory, we could use the date as a feature to consider. However, the tweets we have scraped ranges from a short time period."
      ]
    },
    {
      "cell_type": "code",
      "metadata": {
        "id": "8CM5ZK4Ud3O0",
        "colab_type": "code",
        "colab": {}
      },
      "source": [
        "# convert to datetime\n",
        "tweets_df['tweet_creation_date'] = pd.to_datetime(tweets_df['tweet_creation_date'])\n",
        "tweets_df['user_created_at'] = pd.to_datetime(tweets_df['user_created_at'])"
      ],
      "execution_count": 0,
      "outputs": []
    },
    {
      "cell_type": "code",
      "metadata": {
        "id": "UHZIgnfwd3O3",
        "colab_type": "code",
        "colab": {
          "base_uri": "https://localhost:8080/",
          "height": 51
        },
        "outputId": "20d9dd64-2480-45bb-e2bc-1f455930b278"
      },
      "source": [
        "earliest_tweet_time = tweets_df['tweet_creation_date'].min()\n",
        "latest_tweet_time = tweets_df['tweet_creation_date'].max()\n",
        "\n",
        "print(f\"Earliest Tweet Scraped was at {earliest_tweet_time}\")\n",
        "print(f\"Latest Tweet Scraped was at {latest_tweet_time}\")"
      ],
      "execution_count": 5,
      "outputs": [
        {
          "output_type": "stream",
          "text": [
            "Earliest Tweet Scraped was at 2020-05-14 04:39:47\n",
            "Latest Tweet Scraped was at 2020-05-17 14:36:25\n"
          ],
          "name": "stdout"
        }
      ]
    },
    {
      "cell_type": "markdown",
      "metadata": {
        "id": "RBr8ofAXd3O6",
        "colab_type": "text"
      },
      "source": [
        "We see the time difference is only 10 hours. Potentially we could make a column of 'hour_tweeted' out of it. However this does not cover all potential hours and there is not enough data. So we will make the decision to drop this column."
      ]
    },
    {
      "cell_type": "code",
      "metadata": {
        "id": "o26Fu8Ind3O6",
        "colab_type": "code",
        "colab": {}
      },
      "source": [
        "tweets_df = tweets_df.drop('tweet_creation_date', axis=1)"
      ],
      "execution_count": 0,
      "outputs": []
    },
    {
      "cell_type": "markdown",
      "metadata": {
        "id": "6dzIvg7ed3O-",
        "colab_type": "text"
      },
      "source": [
        "Look at user creation date now."
      ]
    },
    {
      "cell_type": "code",
      "metadata": {
        "id": "ym2Rp_A9d3O-",
        "colab_type": "code",
        "colab": {
          "base_uri": "https://localhost:8080/",
          "height": 51
        },
        "outputId": "747de698-0b56-40cd-93f0-5f9978b7a0e1"
      },
      "source": [
        "earliest_user_creation_timestamp = tweets_df['user_created_at'].min()\n",
        "latest_user_creation_timestamp = tweets_df['user_created_at'].max()\n",
        "\n",
        "print(f\"Earliest User Created at {earliest_user_creation_timestamp}\")\n",
        "print(f\"Latest User Created at {latest_user_creation_timestamp}\")"
      ],
      "execution_count": 7,
      "outputs": [
        {
          "output_type": "stream",
          "text": [
            "Earliest User Created at 2007-05-11 08:38:01\n",
            "Latest User Created at 2020-05-16 23:00:12\n"
          ],
          "name": "stdout"
        }
      ]
    },
    {
      "cell_type": "markdown",
      "metadata": {
        "id": "OqVBmi2Hd3PB",
        "colab_type": "text"
      },
      "source": [
        "Quite a wide range. From 2007 all the way up until the day before scraping. Let's see if we can visualise this."
      ]
    },
    {
      "cell_type": "code",
      "metadata": {
        "id": "xXzv_GBod3PB",
        "colab_type": "code",
        "colab": {
          "base_uri": "https://localhost:8080/",
          "height": 377
        },
        "outputId": "262db8d8-5422-484f-e30b-026425456853"
      },
      "source": [
        "# first cast a column of ones (will use for counting)\n",
        "tweets_df['dummy_ones'] = np.ones(len(tweets_df))\n",
        "\n",
        "# make column for user created month/year/day_of_week/hour\n",
        "tweets_df['user_created_year'] = tweets_df['user_created_at'].map(lambda x: x.year)\n",
        "tweets_df['user_created_month'] = tweets_df['user_created_at'].map(lambda x: x.month)\n",
        "tweets_df['user_created_day_of_week'] = tweets_df['user_created_at'].map(lambda x: x.dayofweek)\n",
        "tweets_df['user_created_hour'] = tweets_df['user_created_at'].map(lambda x: x.hour)\n",
        "\n",
        "tweets_df.head()"
      ],
      "execution_count": 8,
      "outputs": [
        {
          "output_type": "execute_result",
          "data": {
            "text/html": [
              "<div>\n",
              "<style scoped>\n",
              "    .dataframe tbody tr th:only-of-type {\n",
              "        vertical-align: middle;\n",
              "    }\n",
              "\n",
              "    .dataframe tbody tr th {\n",
              "        vertical-align: top;\n",
              "    }\n",
              "\n",
              "    .dataframe thead th {\n",
              "        text-align: right;\n",
              "    }\n",
              "</style>\n",
              "<table border=\"1\" class=\"dataframe\">\n",
              "  <thead>\n",
              "    <tr style=\"text-align: right;\">\n",
              "      <th></th>\n",
              "      <th>Unnamed: 0</th>\n",
              "      <th>tweet_retweet_count</th>\n",
              "      <th>tweet_favourite_count</th>\n",
              "      <th>user_follow_count</th>\n",
              "      <th>user_created_at</th>\n",
              "      <th>user_verified</th>\n",
              "      <th>processed_tweets</th>\n",
              "      <th>covid_hashtag</th>\n",
              "      <th>dummy_ones</th>\n",
              "      <th>user_created_year</th>\n",
              "      <th>user_created_month</th>\n",
              "      <th>user_created_day_of_week</th>\n",
              "      <th>user_created_hour</th>\n",
              "    </tr>\n",
              "  </thead>\n",
              "  <tbody>\n",
              "    <tr>\n",
              "      <th>0</th>\n",
              "      <td>0</td>\n",
              "      <td>111</td>\n",
              "      <td>0</td>\n",
              "      <td>32</td>\n",
              "      <td>2018-09-17 22:49:14</td>\n",
              "      <td>False</td>\n",
              "      <td>rt @jdfarag sun enter ‘lockdown’ period could ...</td>\n",
              "      <td>False</td>\n",
              "      <td>1.0</td>\n",
              "      <td>2018</td>\n",
              "      <td>9</td>\n",
              "      <td>0</td>\n",
              "      <td>22</td>\n",
              "    </tr>\n",
              "    <tr>\n",
              "      <th>1</th>\n",
              "      <td>1</td>\n",
              "      <td>0</td>\n",
              "      <td>0</td>\n",
              "      <td>974</td>\n",
              "      <td>2016-06-28 19:39:16</td>\n",
              "      <td>False</td>\n",
              "      <td>kenya pastoralists face hunger conflict locust...</td>\n",
              "      <td>False</td>\n",
              "      <td>1.0</td>\n",
              "      <td>2016</td>\n",
              "      <td>6</td>\n",
              "      <td>1</td>\n",
              "      <td>19</td>\n",
              "    </tr>\n",
              "    <tr>\n",
              "      <th>2</th>\n",
              "      <td>2</td>\n",
              "      <td>36</td>\n",
              "      <td>0</td>\n",
              "      <td>27</td>\n",
              "      <td>2010-05-29 12:41:00</td>\n",
              "      <td>False</td>\n",
              "      <td>rt @drvandanashiva essentialcommoditiesact use...</td>\n",
              "      <td>False</td>\n",
              "      <td>1.0</td>\n",
              "      <td>2010</td>\n",
              "      <td>5</td>\n",
              "      <td>5</td>\n",
              "      <td>12</td>\n",
              "    </tr>\n",
              "    <tr>\n",
              "      <th>3</th>\n",
              "      <td>3</td>\n",
              "      <td>0</td>\n",
              "      <td>0</td>\n",
              "      <td>836</td>\n",
              "      <td>2009-03-27 01:52:54</td>\n",
              "      <td>False</td>\n",
              "      <td>man could literally hunger entire world choose...</td>\n",
              "      <td>False</td>\n",
              "      <td>1.0</td>\n",
              "      <td>2009</td>\n",
              "      <td>3</td>\n",
              "      <td>4</td>\n",
              "      <td>1</td>\n",
              "    </tr>\n",
              "    <tr>\n",
              "      <th>4</th>\n",
              "      <td>4</td>\n",
              "      <td>7</td>\n",
              "      <td>0</td>\n",
              "      <td>375</td>\n",
              "      <td>2014-07-04 16:19:51</td>\n",
              "      <td>False</td>\n",
              "      <td>rt presidential april year president express c...</td>\n",
              "      <td>False</td>\n",
              "      <td>1.0</td>\n",
              "      <td>2014</td>\n",
              "      <td>7</td>\n",
              "      <td>4</td>\n",
              "      <td>16</td>\n",
              "    </tr>\n",
              "  </tbody>\n",
              "</table>\n",
              "</div>"
            ],
            "text/plain": [
              "   Unnamed: 0  tweet_retweet_count  ...  user_created_day_of_week  user_created_hour\n",
              "0           0                  111  ...                         0                 22\n",
              "1           1                    0  ...                         1                 19\n",
              "2           2                   36  ...                         5                 12\n",
              "3           3                    0  ...                         4                  1\n",
              "4           4                    7  ...                         4                 16\n",
              "\n",
              "[5 rows x 13 columns]"
            ]
          },
          "metadata": {
            "tags": []
          },
          "execution_count": 8
        }
      ]
    },
    {
      "cell_type": "code",
      "metadata": {
        "id": "pgKjcfNld3PE",
        "colab_type": "code",
        "colab": {
          "base_uri": "https://localhost:8080/",
          "height": 1000
        },
        "outputId": "5c78902c-7f28-4bbf-8638-83562e7dbbf3"
      },
      "source": [
        "def barplot_groupby_labels_count(\n",
        "    dataframe: pd.DataFrame, \n",
        "    groupby_category: str, \n",
        "    count_column: str,\n",
        "    label_column:str\n",
        "    ):\n",
        "    \n",
        "    groupby_year = dataframe.groupby(groupby_category)[count_column].sum()\n",
        "    groupby_label = dataframe.groupby(groupby_category)[label_column].sum() # num true\n",
        "\n",
        "    groupby_df = pd.DataFrame([groupby_year, groupby_label]).T\n",
        "    groupby_df[f'non-{label_column}'] = groupby_df[count_column] - groupby_df[label_column]\n",
        "\n",
        "    groupby_df[[label_column, f'non-{label_column}',]].plot(kind='bar', stacked=True)\n",
        "    plt.ylabel('count')\n",
        "    plt.show()\n",
        "    \n",
        "\n",
        "group_by_categories = ['user_created_year', 'user_created_month', 'user_created_day_of_week', 'user_created_hour']\n",
        "\n",
        "for category in group_by_categories:\n",
        "    barplot_groupby_labels_count(tweets_df, category, 'dummy_ones', 'covid_hashtag')\n",
        "    "
      ],
      "execution_count": 9,
      "outputs": [
        {
          "output_type": "display_data",
          "data": {
            "image/png": "[encoded data removed]",
            "text/plain": [
              "<Figure size 432x288 with 1 Axes>"
            ]
          },
          "metadata": {
            "tags": [],
            "needs_background": "light"
          }
        },
        {
          "output_type": "display_data",
          "data": {
            "image/png": "[encoded data removed]",
            "text/plain": [
              "<Figure size 432x288 with 1 Axes>"
            ]
          },
          "metadata": {
            "tags": [],
            "needs_background": "light"
          }
        },
        {
          "output_type": "display_data",
          "data": {
            "image/png": "[encoded data removed]",
            "text/plain": [
              "<Figure size 432x288 with 1 Axes>"
            ]
          },
          "metadata": {
            "tags": [],
            "needs_background": "light"
          }
        },
        {
          "output_type": "display_data",
          "data": {
            "image/png": "[encoded data removed]",
            "text/plain": [
              "<Figure size 432x288 with 1 Axes>"
            ]
          },
          "metadata": {
            "tags": [],
            "needs_background": "light"
          }
        }
      ]
    },
    {
      "cell_type": "markdown",
      "metadata": {
        "id": "1i-Jyq0nd3PG",
        "colab_type": "text"
      },
      "source": [
        "Seems there is not much visible correlation between covid hashtag and when the user account was created. Nonetheless, we have engineered some columns and it may come in handly later for modelling, albeit unlikely but could be worth investigation. So drop original user created datetime column and proceed with processing the original tweets."
      ]
    },
    {
      "cell_type": "code",
      "metadata": {
        "id": "6E9_vVhud3PG",
        "colab_type": "code",
        "colab": {}
      },
      "source": [
        "tweets_df = tweets_df.drop(['dummy_ones', 'user_created_at'], axis=1)"
      ],
      "execution_count": 0,
      "outputs": []
    },
    {
      "cell_type": "markdown",
      "metadata": {
        "id": "k5CHbL8Kd3PJ",
        "colab_type": "text"
      },
      "source": [
        "We want to remove frequent and rare words from our processed tweets. First we should take a look at what words are frequent/rare to see what portion we may want to skim off.\n",
        "\n",
        "Ref:\n",
        "-  https://www.kaggle.com/sudalairajkumar/getting-started-with-text-preprocessing#Removal-of-Frequent-words"
      ]
    },
    {
      "cell_type": "code",
      "metadata": {
        "id": "qTymcEQjd3PJ",
        "colab_type": "code",
        "colab": {
          "base_uri": "https://localhost:8080/",
          "height": 187
        },
        "outputId": "c760c6d7-d2ff-4106-81a1-760fd3430fce"
      },
      "source": [
        "from collections import Counter\n",
        "cnt = Counter()\n",
        "\n",
        "for text in tweets_df[\"processed_tweets\"].values:\n",
        "    for word in text.split():\n",
        "        cnt[word] += 1\n",
        "        \n",
        "cnt.most_common(10)"
      ],
      "execution_count": 11,
      "outputs": [
        {
          "output_type": "execute_result",
          "data": {
            "text/plain": [
              "[('rt', 543),\n",
              " ('hunger', 485),\n",
              " ('could', 148),\n",
              " ('food', 146),\n",
              " ('covid19', 135),\n",
              " ('cause', 125),\n",
              " ('@jdfarag', 118),\n",
              " ('famine', 118),\n",
              " ('he', 114),\n",
              " ('sun', 109)]"
            ]
          },
          "metadata": {
            "tags": []
          },
          "execution_count": 11
        }
      ]
    },
    {
      "cell_type": "markdown",
      "metadata": {
        "id": "xJBu1cyrd3PM",
        "colab_type": "text"
      },
      "source": [
        "Seems like the most common words are very important. We will keep these"
      ]
    },
    {
      "cell_type": "code",
      "metadata": {
        "id": "b99FHjCad3PM",
        "colab_type": "code",
        "colab": {
          "base_uri": "https://localhost:8080/",
          "height": 187
        },
        "outputId": "6e43323c-90e9-48d8-d91e-1aa3e3fa7ff8"
      },
      "source": [
        "n_rare_words = 10\n",
        "RAREWORDS = set([w for (w, wc) in cnt.most_common()[:-n_rare_words-1:-1]])\n",
        "\n",
        "RAREWORDS"
      ],
      "execution_count": 12,
      "outputs": [
        {
          "output_type": "execute_result",
          "data": {
            "text/plain": [
              "{'african-american',\n",
              " 'ahumaudarbery',\n",
              " 'communitymatters',\n",
              " 'httpstcobwhl7ldhct',\n",
              " 'httpstcoinkecbg2dh',\n",
              " 'id',\n",
              " 'may2020',\n",
              " 'nov',\n",
              " 'shooter',\n",
              " 'w'}"
            ]
          },
          "metadata": {
            "tags": []
          },
          "execution_count": 12
        }
      ]
    },
    {
      "cell_type": "markdown",
      "metadata": {
        "id": "D9p-Wohkd3PP",
        "colab_type": "text"
      },
      "source": [
        "Seem not so relevant. We will remove these rarewords."
      ]
    },
    {
      "cell_type": "code",
      "metadata": {
        "id": "Sh4PFs6od3PQ",
        "colab_type": "code",
        "colab": {}
      },
      "source": [
        "def remove_rarewords(text:str, RAREWORDS:set):\n",
        "    return \" \".join([word for word in str(text).split() if word not in RAREWORDS])\n",
        "\n",
        "tweets_df['processed_tweets'] = tweets_df['processed_tweets'].apply(lambda x: remove_rarewords(x, RAREWORDS))"
      ],
      "execution_count": 0,
      "outputs": []
    },
    {
      "cell_type": "code",
      "metadata": {
        "id": "5yKDy1OAd3PS",
        "colab_type": "code",
        "colab": {
          "base_uri": "https://localhost:8080/",
          "height": 377
        },
        "outputId": "47316647-9d07-4256-c014-983317f15e4e"
      },
      "source": [
        "tweets_df.head()"
      ],
      "execution_count": 14,
      "outputs": [
        {
          "output_type": "execute_result",
          "data": {
            "text/html": [
              "<div>\n",
              "<style scoped>\n",
              "    .dataframe tbody tr th:only-of-type {\n",
              "        vertical-align: middle;\n",
              "    }\n",
              "\n",
              "    .dataframe tbody tr th {\n",
              "        vertical-align: top;\n",
              "    }\n",
              "\n",
              "    .dataframe thead th {\n",
              "        text-align: right;\n",
              "    }\n",
              "</style>\n",
              "<table border=\"1\" class=\"dataframe\">\n",
              "  <thead>\n",
              "    <tr style=\"text-align: right;\">\n",
              "      <th></th>\n",
              "      <th>Unnamed: 0</th>\n",
              "      <th>tweet_retweet_count</th>\n",
              "      <th>tweet_favourite_count</th>\n",
              "      <th>user_follow_count</th>\n",
              "      <th>user_verified</th>\n",
              "      <th>processed_tweets</th>\n",
              "      <th>covid_hashtag</th>\n",
              "      <th>user_created_year</th>\n",
              "      <th>user_created_month</th>\n",
              "      <th>user_created_day_of_week</th>\n",
              "      <th>user_created_hour</th>\n",
              "    </tr>\n",
              "  </thead>\n",
              "  <tbody>\n",
              "    <tr>\n",
              "      <th>0</th>\n",
              "      <td>0</td>\n",
              "      <td>111</td>\n",
              "      <td>0</td>\n",
              "      <td>32</td>\n",
              "      <td>False</td>\n",
              "      <td>rt @jdfarag sun enter ‘lockdown’ period could ...</td>\n",
              "      <td>False</td>\n",
              "      <td>2018</td>\n",
              "      <td>9</td>\n",
              "      <td>0</td>\n",
              "      <td>22</td>\n",
              "    </tr>\n",
              "    <tr>\n",
              "      <th>1</th>\n",
              "      <td>1</td>\n",
              "      <td>0</td>\n",
              "      <td>0</td>\n",
              "      <td>974</td>\n",
              "      <td>False</td>\n",
              "      <td>kenya pastoralists face hunger conflict locust...</td>\n",
              "      <td>False</td>\n",
              "      <td>2016</td>\n",
              "      <td>6</td>\n",
              "      <td>1</td>\n",
              "      <td>19</td>\n",
              "    </tr>\n",
              "    <tr>\n",
              "      <th>2</th>\n",
              "      <td>2</td>\n",
              "      <td>36</td>\n",
              "      <td>0</td>\n",
              "      <td>27</td>\n",
              "      <td>False</td>\n",
              "      <td>rt @drvandanashiva essentialcommoditiesact use...</td>\n",
              "      <td>False</td>\n",
              "      <td>2010</td>\n",
              "      <td>5</td>\n",
              "      <td>5</td>\n",
              "      <td>12</td>\n",
              "    </tr>\n",
              "    <tr>\n",
              "      <th>3</th>\n",
              "      <td>3</td>\n",
              "      <td>0</td>\n",
              "      <td>0</td>\n",
              "      <td>836</td>\n",
              "      <td>False</td>\n",
              "      <td>man could literally hunger entire world choose...</td>\n",
              "      <td>False</td>\n",
              "      <td>2009</td>\n",
              "      <td>3</td>\n",
              "      <td>4</td>\n",
              "      <td>1</td>\n",
              "    </tr>\n",
              "    <tr>\n",
              "      <th>4</th>\n",
              "      <td>4</td>\n",
              "      <td>7</td>\n",
              "      <td>0</td>\n",
              "      <td>375</td>\n",
              "      <td>False</td>\n",
              "      <td>rt presidential april year president express c...</td>\n",
              "      <td>False</td>\n",
              "      <td>2014</td>\n",
              "      <td>7</td>\n",
              "      <td>4</td>\n",
              "      <td>16</td>\n",
              "    </tr>\n",
              "  </tbody>\n",
              "</table>\n",
              "</div>"
            ],
            "text/plain": [
              "   Unnamed: 0  tweet_retweet_count  ...  user_created_day_of_week  user_created_hour\n",
              "0           0                  111  ...                         0                 22\n",
              "1           1                    0  ...                         1                 19\n",
              "2           2                   36  ...                         5                 12\n",
              "3           3                    0  ...                         4                  1\n",
              "4           4                    7  ...                         4                 16\n",
              "\n",
              "[5 rows x 11 columns]"
            ]
          },
          "metadata": {
            "tags": []
          },
          "execution_count": 14
        }
      ]
    },
    {
      "cell_type": "markdown",
      "metadata": {
        "id": "U4YeAaxld3PU",
        "colab_type": "text"
      },
      "source": [
        "So part of the preprocessing is done. We still need to label encode features and perhaps normalise the retweet_count, tweet_favourite_count and user_follow_count. \n",
        "\n",
        "First, we plot a heat correlation map of our dataframe. Later on we may be ensembling other models in addition to our one for text data only to include other features from our dataset."
      ]
    },
    {
      "cell_type": "code",
      "metadata": {
        "id": "e1m0hlbUd3PV",
        "colab_type": "code",
        "colab": {
          "base_uri": "https://localhost:8080/",
          "height": 564
        },
        "outputId": "9a465eb0-b208-4084-b312-b8ade0d8536f"
      },
      "source": [
        "sns.set(font_scale=1.4)\n",
        "plt.figure(figsize = (14,9))\n",
        "sns.heatmap(tweets_df.corr(), cmap='coolwarm', annot=True, linewidths=.5)\n",
        "plt.show()"
      ],
      "execution_count": 15,
      "outputs": [
        {
          "output_type": "display_data",
          "data": {
            "image/png": "[encoded data removed]",
            "text/plain": [
              "<Figure size 1008x648 with 2 Axes>"
            ]
          },
          "metadata": {
            "tags": []
          }
        }
      ]
    },
    {
      "cell_type": "markdown",
      "metadata": {
        "id": "rEi0BcHyd3PY",
        "colab_type": "text"
      },
      "source": [
        "Next step: Normalise numerical columns.\n",
        "\n",
        "Ref: https://machinelearningmastery.com/how-to-improve-neural-network-stability-and-modeling-performance-with-data-scaling/"
      ]
    },
    {
      "cell_type": "code",
      "metadata": {
        "id": "g8cA_8a-d3PZ",
        "colab_type": "code",
        "colab": {
          "base_uri": "https://localhost:8080/",
          "height": 377
        },
        "outputId": "ec08fd1c-71f2-4496-b5f4-c276d802f678"
      },
      "source": [
        "def normalise_column(dataframe: pd.DataFrame, column_name: str):\n",
        "    col = dataframe[column_name]\n",
        "    dataframe[column_name] = (col - col.min()) / (col.max() - col.min())\n",
        "    return dataframe\n",
        "    \n",
        "numerical_columns = ['tweet_retweet_count', 'tweet_favourite_count', 'user_follow_count']                               \n",
        "\n",
        "for numerical_column in numerical_columns:\n",
        "    normalise_column(tweets_df, numerical_column)\n",
        "\n",
        "tweets_df.head()"
      ],
      "execution_count": 16,
      "outputs": [
        {
          "output_type": "execute_result",
          "data": {
            "text/html": [
              "<div>\n",
              "<style scoped>\n",
              "    .dataframe tbody tr th:only-of-type {\n",
              "        vertical-align: middle;\n",
              "    }\n",
              "\n",
              "    .dataframe tbody tr th {\n",
              "        vertical-align: top;\n",
              "    }\n",
              "\n",
              "    .dataframe thead th {\n",
              "        text-align: right;\n",
              "    }\n",
              "</style>\n",
              "<table border=\"1\" class=\"dataframe\">\n",
              "  <thead>\n",
              "    <tr style=\"text-align: right;\">\n",
              "      <th></th>\n",
              "      <th>Unnamed: 0</th>\n",
              "      <th>tweet_retweet_count</th>\n",
              "      <th>tweet_favourite_count</th>\n",
              "      <th>user_follow_count</th>\n",
              "      <th>user_verified</th>\n",
              "      <th>processed_tweets</th>\n",
              "      <th>covid_hashtag</th>\n",
              "      <th>user_created_year</th>\n",
              "      <th>user_created_month</th>\n",
              "      <th>user_created_day_of_week</th>\n",
              "      <th>user_created_hour</th>\n",
              "    </tr>\n",
              "  </thead>\n",
              "  <tbody>\n",
              "    <tr>\n",
              "      <th>0</th>\n",
              "      <td>0</td>\n",
              "      <td>0.299191</td>\n",
              "      <td>0.0</td>\n",
              "      <td>0.000086</td>\n",
              "      <td>False</td>\n",
              "      <td>rt @jdfarag sun enter ‘lockdown’ period could ...</td>\n",
              "      <td>False</td>\n",
              "      <td>2018</td>\n",
              "      <td>9</td>\n",
              "      <td>0</td>\n",
              "      <td>22</td>\n",
              "    </tr>\n",
              "    <tr>\n",
              "      <th>1</th>\n",
              "      <td>1</td>\n",
              "      <td>0.000000</td>\n",
              "      <td>0.0</td>\n",
              "      <td>0.002624</td>\n",
              "      <td>False</td>\n",
              "      <td>kenya pastoralists face hunger conflict locust...</td>\n",
              "      <td>False</td>\n",
              "      <td>2016</td>\n",
              "      <td>6</td>\n",
              "      <td>1</td>\n",
              "      <td>19</td>\n",
              "    </tr>\n",
              "    <tr>\n",
              "      <th>2</th>\n",
              "      <td>2</td>\n",
              "      <td>0.097035</td>\n",
              "      <td>0.0</td>\n",
              "      <td>0.000073</td>\n",
              "      <td>False</td>\n",
              "      <td>rt @drvandanashiva essentialcommoditiesact use...</td>\n",
              "      <td>False</td>\n",
              "      <td>2010</td>\n",
              "      <td>5</td>\n",
              "      <td>5</td>\n",
              "      <td>12</td>\n",
              "    </tr>\n",
              "    <tr>\n",
              "      <th>3</th>\n",
              "      <td>3</td>\n",
              "      <td>0.000000</td>\n",
              "      <td>0.0</td>\n",
              "      <td>0.002252</td>\n",
              "      <td>False</td>\n",
              "      <td>man could literally hunger entire world choose...</td>\n",
              "      <td>False</td>\n",
              "      <td>2009</td>\n",
              "      <td>3</td>\n",
              "      <td>4</td>\n",
              "      <td>1</td>\n",
              "    </tr>\n",
              "    <tr>\n",
              "      <th>4</th>\n",
              "      <td>4</td>\n",
              "      <td>0.018868</td>\n",
              "      <td>0.0</td>\n",
              "      <td>0.001010</td>\n",
              "      <td>False</td>\n",
              "      <td>rt presidential april year president express c...</td>\n",
              "      <td>False</td>\n",
              "      <td>2014</td>\n",
              "      <td>7</td>\n",
              "      <td>4</td>\n",
              "      <td>16</td>\n",
              "    </tr>\n",
              "  </tbody>\n",
              "</table>\n",
              "</div>"
            ],
            "text/plain": [
              "   Unnamed: 0  tweet_retweet_count  ...  user_created_day_of_week  user_created_hour\n",
              "0           0             0.299191  ...                         0                 22\n",
              "1           1             0.000000  ...                         1                 19\n",
              "2           2             0.097035  ...                         5                 12\n",
              "3           3             0.000000  ...                         4                  1\n",
              "4           4             0.018868  ...                         4                 16\n",
              "\n",
              "[5 rows x 11 columns]"
            ]
          },
          "metadata": {
            "tags": []
          },
          "execution_count": 16
        }
      ]
    },
    {
      "cell_type": "markdown",
      "metadata": {
        "id": "4i7VXfyLd3Pb",
        "colab_type": "text"
      },
      "source": [
        "From here: we will be following https://www.kaggle.com/abhishek/approaching-almost-any-nlp-problem-on-kaggle to get us into NLP and have an idea of what is possible. In the next notebook perhaps we will try BERT / ALBERT model.\n",
        "\n",
        "\n",
        "Now: we label encode categorical values"
      ]
    },
    {
      "cell_type": "code",
      "metadata": {
        "id": "DAwOzObId3Pc",
        "colab_type": "code",
        "colab": {
          "base_uri": "https://localhost:8080/",
          "height": 377
        },
        "outputId": "8da6f6e8-22f1-4e9f-ed31-b9598b036bf6"
      },
      "source": [
        " from sklearn.preprocessing import LabelEncoder\n",
        "\n",
        "label_encoder = LabelEncoder()\n",
        "\n",
        "tweets_df['user_verified'] = label_encoder.fit_transform(tweets_df['user_verified'])\n",
        "tweets_df['covid_hashtag'] = label_encoder.fit_transform(tweets_df['covid_hashtag'])\n",
        "tweets_df['user_created_year'] = label_encoder.fit_transform(tweets_df['user_created_year'])\n",
        "\n",
        "tweets_df.head()"
      ],
      "execution_count": 17,
      "outputs": [
        {
          "output_type": "execute_result",
          "data": {
            "text/html": [
              "<div>\n",
              "<style scoped>\n",
              "    .dataframe tbody tr th:only-of-type {\n",
              "        vertical-align: middle;\n",
              "    }\n",
              "\n",
              "    .dataframe tbody tr th {\n",
              "        vertical-align: top;\n",
              "    }\n",
              "\n",
              "    .dataframe thead th {\n",
              "        text-align: right;\n",
              "    }\n",
              "</style>\n",
              "<table border=\"1\" class=\"dataframe\">\n",
              "  <thead>\n",
              "    <tr style=\"text-align: right;\">\n",
              "      <th></th>\n",
              "      <th>Unnamed: 0</th>\n",
              "      <th>tweet_retweet_count</th>\n",
              "      <th>tweet_favourite_count</th>\n",
              "      <th>user_follow_count</th>\n",
              "      <th>user_verified</th>\n",
              "      <th>processed_tweets</th>\n",
              "      <th>covid_hashtag</th>\n",
              "      <th>user_created_year</th>\n",
              "      <th>user_created_month</th>\n",
              "      <th>user_created_day_of_week</th>\n",
              "      <th>user_created_hour</th>\n",
              "    </tr>\n",
              "  </thead>\n",
              "  <tbody>\n",
              "    <tr>\n",
              "      <th>0</th>\n",
              "      <td>0</td>\n",
              "      <td>0.299191</td>\n",
              "      <td>0.0</td>\n",
              "      <td>0.000086</td>\n",
              "      <td>0</td>\n",
              "      <td>rt @jdfarag sun enter ‘lockdown’ period could ...</td>\n",
              "      <td>0</td>\n",
              "      <td>11</td>\n",
              "      <td>9</td>\n",
              "      <td>0</td>\n",
              "      <td>22</td>\n",
              "    </tr>\n",
              "    <tr>\n",
              "      <th>1</th>\n",
              "      <td>1</td>\n",
              "      <td>0.000000</td>\n",
              "      <td>0.0</td>\n",
              "      <td>0.002624</td>\n",
              "      <td>0</td>\n",
              "      <td>kenya pastoralists face hunger conflict locust...</td>\n",
              "      <td>0</td>\n",
              "      <td>9</td>\n",
              "      <td>6</td>\n",
              "      <td>1</td>\n",
              "      <td>19</td>\n",
              "    </tr>\n",
              "    <tr>\n",
              "      <th>2</th>\n",
              "      <td>2</td>\n",
              "      <td>0.097035</td>\n",
              "      <td>0.0</td>\n",
              "      <td>0.000073</td>\n",
              "      <td>0</td>\n",
              "      <td>rt @drvandanashiva essentialcommoditiesact use...</td>\n",
              "      <td>0</td>\n",
              "      <td>3</td>\n",
              "      <td>5</td>\n",
              "      <td>5</td>\n",
              "      <td>12</td>\n",
              "    </tr>\n",
              "    <tr>\n",
              "      <th>3</th>\n",
              "      <td>3</td>\n",
              "      <td>0.000000</td>\n",
              "      <td>0.0</td>\n",
              "      <td>0.002252</td>\n",
              "      <td>0</td>\n",
              "      <td>man could literally hunger entire world choose...</td>\n",
              "      <td>0</td>\n",
              "      <td>2</td>\n",
              "      <td>3</td>\n",
              "      <td>4</td>\n",
              "      <td>1</td>\n",
              "    </tr>\n",
              "    <tr>\n",
              "      <th>4</th>\n",
              "      <td>4</td>\n",
              "      <td>0.018868</td>\n",
              "      <td>0.0</td>\n",
              "      <td>0.001010</td>\n",
              "      <td>0</td>\n",
              "      <td>rt presidential april year president express c...</td>\n",
              "      <td>0</td>\n",
              "      <td>7</td>\n",
              "      <td>7</td>\n",
              "      <td>4</td>\n",
              "      <td>16</td>\n",
              "    </tr>\n",
              "  </tbody>\n",
              "</table>\n",
              "</div>"
            ],
            "text/plain": [
              "   Unnamed: 0  tweet_retweet_count  ...  user_created_day_of_week  user_created_hour\n",
              "0           0             0.299191  ...                         0                 22\n",
              "1           1             0.000000  ...                         1                 19\n",
              "2           2             0.097035  ...                         5                 12\n",
              "3           3             0.000000  ...                         4                  1\n",
              "4           4             0.018868  ...                         4                 16\n",
              "\n",
              "[5 rows x 11 columns]"
            ]
          },
          "metadata": {
            "tags": []
          },
          "execution_count": 17
        }
      ]
    },
    {
      "cell_type": "markdown",
      "metadata": {
        "id": "8lX3pqlLd3Pf",
        "colab_type": "text"
      },
      "source": [
        "Now we can split into train and test datasets."
      ]
    },
    {
      "cell_type": "code",
      "metadata": {
        "id": "qbVTo9I_d3Pg",
        "colab_type": "code",
        "colab": {}
      },
      "source": [
        "train_text = tweets_df['processed_tweets'].values\n",
        "y = tweets_df['covid_hashtag'].values"
      ],
      "execution_count": 0,
      "outputs": []
    },
    {
      "cell_type": "code",
      "metadata": {
        "id": "Vo9bi_Kvd3Pi",
        "colab_type": "code",
        "colab": {
          "base_uri": "https://localhost:8080/",
          "height": 51
        },
        "outputId": "f10a81b3-8be3-48f8-e23f-8f61d1494e25"
      },
      "source": [
        "from sklearn.model_selection import train_test_split\n",
        "\n",
        "xtrain, xvalid, ytrain, yvalid = train_test_split(train_text, \n",
        "                                                  y, \n",
        "                                                  stratify=y, \n",
        "                                                  random_state=42, \n",
        "                                                  test_size=0.1, \n",
        "                                                  shuffle=True)\n",
        "\n",
        "print(f\"num of train samples: {xtrain.shape}\")\n",
        "print(f\"num of test samples: {xvalid.shape}\")"
      ],
      "execution_count": 80,
      "outputs": [
        {
          "output_type": "stream",
          "text": [
            "num of train samples: (900,)\n",
            "num of test samples: (100,)\n"
          ],
          "name": "stdout"
        }
      ]
    },
    {
      "cell_type": "markdown",
      "metadata": {
        "id": "oViN0bi1d3Pk",
        "colab_type": "text"
      },
      "source": [
        "Simple first approach: TF-IDF (Term Frequency - Inverse Document Frequency) followed by simple Logistic Regression."
      ]
    },
    {
      "cell_type": "code",
      "metadata": {
        "id": "WnXy61X4d3Pk",
        "colab_type": "code",
        "colab": {}
      },
      "source": [
        "from sklearn.feature_extraction.text import TfidfVectorizer\n",
        "# Always start with these features. They work (almost) everytime!\n",
        "tfv = TfidfVectorizer(min_df=3,  \n",
        "                      max_features=None, \n",
        "                      strip_accents='unicode', \n",
        "                      analyzer='word',\n",
        "                      token_pattern=r'\\w{1,}',\n",
        "                      ngram_range=(1, 3), \n",
        "                      use_idf=1,\n",
        "                      smooth_idf=1,\n",
        "                      sublinear_tf=1,\n",
        "                      stop_words = 'english')\n",
        "\n",
        "# Fitting TF-IDF to both training and test sets (semi-supervised learning)\n",
        "tfv.fit(list(xtrain) + list(xvalid))\n",
        "xtrain_tfv =  tfv.transform(xtrain) \n",
        "xvalid_tfv = tfv.transform(xvalid)"
      ],
      "execution_count": 0,
      "outputs": []
    },
    {
      "cell_type": "code",
      "metadata": {
        "id": "Dap91y1ad3Po",
        "colab_type": "code",
        "colab": {}
      },
      "source": [
        "def multiclass_logloss(actual, predicted, eps=1e-15):\n",
        "    \"\"\"Multi class version of Logarithmic Loss metric.\n",
        "    :param actual: Array containing the actual target classes\n",
        "    :param predicted: Matrix with class predictions, one probability per class\n",
        "    \"\"\"\n",
        "    # Convert 'actual' to a binary array if it's not already:\n",
        "    if len(actual.shape) == 1:\n",
        "        actual2 = np.zeros((actual.shape[0], predicted.shape[1]))\n",
        "        for i, val in enumerate(actual):\n",
        "            actual2[i, val] = 1\n",
        "        actual = actual2\n",
        "\n",
        "    clip = np.clip(predicted, eps, 1 - eps)\n",
        "    rows = actual.shape[0]\n",
        "    vsota = np.sum(actual * np.log(clip))\n",
        "    return -1.0 / rows * vsota\n"
      ],
      "execution_count": 0,
      "outputs": []
    },
    {
      "cell_type": "code",
      "metadata": {
        "id": "t-vfKL2qd3Ps",
        "colab_type": "code",
        "colab": {
          "base_uri": "https://localhost:8080/",
          "height": 34
        },
        "outputId": "49240422-e26a-4e10-9edd-dfbce40ab62e"
      },
      "source": [
        "from sklearn.linear_model import LogisticRegression\n",
        "# Fit simple Logistic Regression\n",
        "clf = LogisticRegression(C=1.0)\n",
        "clf.fit(xtrain_tfv, ytrain)\n",
        "predictions = clf.predict_proba(xvalid_tfv)\n",
        "\n",
        "print(f\"Logistic Regression LogLoss on TFIDF: {multiclass_logloss(yvalid, predictions)}\")\n"
      ],
      "execution_count": 25,
      "outputs": [
        {
          "output_type": "stream",
          "text": [
            "Logistic Regression LogLoss on TFIDF: 0.23758946194001015\n"
          ],
          "name": "stdout"
        }
      ]
    },
    {
      "cell_type": "code",
      "metadata": {
        "id": "yOWNkuz6d3Pm",
        "colab_type": "code",
        "colab": {
          "base_uri": "https://localhost:8080/",
          "height": 34
        },
        "outputId": "baf7968a-286b-4257-a3ee-890951418452"
      },
      "source": [
        "# binary cross-entropy loss. Default for binary classification\n",
        "from sklearn.metrics import log_loss\n",
        "log_loss(yvalid, predictions)"
      ],
      "execution_count": 26,
      "outputs": [
        {
          "output_type": "execute_result",
          "data": {
            "text/plain": [
              "0.23758946194001018"
            ]
          },
          "metadata": {
            "tags": []
          },
          "execution_count": 26
        }
      ]
    },
    {
      "cell_type": "markdown",
      "metadata": {
        "id": "guWvAj03d3Pu",
        "colab_type": "text"
      },
      "source": [
        "Try CountVectoriser. This uses word counts as features."
      ]
    },
    {
      "cell_type": "code",
      "metadata": {
        "id": "U0O611Y8d3Pu",
        "colab_type": "code",
        "colab": {}
      },
      "source": [
        "from sklearn.feature_extraction.text import CountVectorizer\n",
        "\n",
        "ctv = CountVectorizer(analyzer='word',\n",
        "                      token_pattern=r'\\w{1,}',\n",
        "                      ngram_range=(1, 3), \n",
        "                      stop_words = 'english')\n",
        "\n",
        "# Fitting Count Vectorizer to both training and test sets (semi-supervised learning)\n",
        "ctv.fit(list(xtrain) + list(xvalid))\n",
        "xtrain_ctv =  ctv.transform(xtrain) \n",
        "xvalid_ctv = ctv.transform(xvalid)"
      ],
      "execution_count": 0,
      "outputs": []
    },
    {
      "cell_type": "code",
      "metadata": {
        "id": "uWSlK57ad3Pw",
        "colab_type": "code",
        "colab": {
          "base_uri": "https://localhost:8080/",
          "height": 34
        },
        "outputId": "f08ad621-3e00-449c-e0d8-c800a5593ac4"
      },
      "source": [
        "# Fitting a simple Logistic Regression on Counts\n",
        "clf = LogisticRegression(C=1.0)\n",
        "clf.fit(xtrain_ctv, ytrain)\n",
        "predictions = clf.predict_proba(xvalid_ctv)\n",
        "\n",
        "print (\"Logistic Regression logloss on CountVectoriser: %0.3f \" % multiclass_logloss(yvalid, predictions))"
      ],
      "execution_count": 28,
      "outputs": [
        {
          "output_type": "stream",
          "text": [
            "Logistic Regression logloss on CountVectoriser: 0.112 \n"
          ],
          "name": "stdout"
        }
      ]
    },
    {
      "cell_type": "markdown",
      "metadata": {
        "id": "10f-ZSsmd3Py",
        "colab_type": "text"
      },
      "source": [
        "Results are much better here."
      ]
    },
    {
      "cell_type": "code",
      "metadata": {
        "id": "nJ1UK8RGd3Pz",
        "colab_type": "code",
        "colab": {
          "base_uri": "https://localhost:8080/",
          "height": 34
        },
        "outputId": "81750bc8-3971-482b-b865-fa6a66d7f476"
      },
      "source": [
        "from sklearn.naive_bayes import MultinomialNB\n",
        "\n",
        "# Fit Naive Bayes on TFIDF\n",
        "clf = MultinomialNB()\n",
        "clf.fit(xtrain_tfv, ytrain)\n",
        "predictions = clf.predict_proba(xvalid_tfv)\n",
        "\n",
        "print (\"Naive Bayes logloss on TFIDF: %0.3f \" % multiclass_logloss(yvalid, predictions))"
      ],
      "execution_count": 29,
      "outputs": [
        {
          "output_type": "stream",
          "text": [
            "Naive Bayes logloss on TFIDF: 0.261 \n"
          ],
          "name": "stdout"
        }
      ]
    },
    {
      "cell_type": "code",
      "metadata": {
        "id": "hZZ86aoid3P0",
        "colab_type": "code",
        "colab": {
          "base_uri": "https://localhost:8080/",
          "height": 34
        },
        "outputId": "05fb352f-61ed-4ddc-f441-00b1f4661a4f"
      },
      "source": [
        "# Fitting a simple Naive Bayes on Counts\n",
        "clf = MultinomialNB()\n",
        "clf.fit(xtrain_ctv, ytrain)\n",
        "predictions = clf.predict_proba(xvalid_ctv)\n",
        "\n",
        "print (\"Naive Bayes logloss on CountVectoriser: %0.3f \" % multiclass_logloss(yvalid, predictions))"
      ],
      "execution_count": 30,
      "outputs": [
        {
          "output_type": "stream",
          "text": [
            "Naive Bayes logloss on CountVectoriser: 3.437 \n"
          ],
          "name": "stdout"
        }
      ]
    },
    {
      "cell_type": "markdown",
      "metadata": {
        "id": "Ok0A6TVad3P3",
        "colab_type": "text"
      },
      "source": [
        "Seems like Naive Bayes for our use case does not seem as great than Logistic Regression.\n",
        "\n",
        "Next step is to try SVMs. These can take a lot of time so it may be advisable to reduce the number of features from TF-IDF using Singular Value Decomposition (SVD) before applying this.\n",
        "\n",
        "Also, before applying SVMs, we must standardise the data.\n"
      ]
    },
    {
      "cell_type": "code",
      "metadata": {
        "id": "H2jVDEeNd3P3",
        "colab_type": "code",
        "colab": {}
      },
      "source": [
        "from sklearn import decomposition, preprocessing\n",
        "from sklearn.decomposition import TruncatedSVD\n",
        "\n",
        "# TODO: Look into SVD\n",
        "\n",
        "# Apply SVD. Typically ~120-200 components are good enough for SVD\n",
        "svd = decomposition.TruncatedSVD(n_components=120)\n",
        "svd.fit(xtrain_tfv)\n",
        "xtrain_svd = svd.transform(xtrain_tfv)\n",
        "xvalid_svd = svd.transform(xvalid_tfv)\n",
        "\n",
        "# scale data from SVD. Rename variable to use without scaling\n",
        "scl = preprocessing.StandardScaler()\n",
        "scl.fit(xtrain_svd)\n",
        "xtrain_svd_scl = scl.transform(xtrain_svd)\n",
        "xvalid_svd_scl = scl.transform(xvalid_svd)\n"
      ],
      "execution_count": 0,
      "outputs": []
    },
    {
      "cell_type": "code",
      "metadata": {
        "id": "tA-Bsz5cd3P5",
        "colab_type": "code",
        "colab": {
          "base_uri": "https://localhost:8080/",
          "height": 34
        },
        "outputId": "d3c1194f-a888-42db-e089-d6e917e39161"
      },
      "source": [
        "from sklearn.svm import SVC\n",
        "# apply SVM here. This can take a while\n",
        "clf = SVC(C=1.0, probability=True) # try for probabilities here\n",
        "clf.fit(xtrain_svd_scl, ytrain)\n",
        "predictions = clf.predict_proba(xvalid_svd_scl)\n",
        "\n",
        "print (\"SVM logloss: %0.3f \" % multiclass_logloss(yvalid, predictions))\n"
      ],
      "execution_count": 32,
      "outputs": [
        {
          "output_type": "stream",
          "text": [
            "SVM logloss: 0.081 \n"
          ],
          "name": "stdout"
        }
      ]
    },
    {
      "cell_type": "markdown",
      "metadata": {
        "id": "56DdJYvZd3P7",
        "colab_type": "text"
      },
      "source": [
        "Wow. Accuracy is pretty astounding here. Logloss is 0.083.\n",
        "\n",
        "We can look into another very popular algorithm; XGBoost."
      ]
    },
    {
      "cell_type": "code",
      "metadata": {
        "id": "5vlKj5Vmd3P8",
        "colab_type": "code",
        "colab": {
          "base_uri": "https://localhost:8080/",
          "height": 34
        },
        "outputId": "325f50a8-5f88-49ce-a7cf-222994d8c926"
      },
      "source": [
        "import xgboost as xgb\n",
        "# fit simple xgboost on tf-idf\n",
        "clf = xgb.XGBClassifier(max_depth=7,\n",
        "                       n_estimators=200,\n",
        "                       colsample_bytree=0.8,\n",
        "                       subsample=0.8,\n",
        "                       nthread=10,\n",
        "                       learning_rate=0.1)\n",
        "\n",
        "clf.fit(xtrain_tfv.tocsc(), ytrain)\n",
        "predictions = clf.predict_proba(xvalid_tfv.tocsc())\n",
        "\n",
        "print (\"XGBoost logloss for TFIDF: %0.3f \" % multiclass_logloss(yvalid, predictions))\n"
      ],
      "execution_count": 33,
      "outputs": [
        {
          "output_type": "stream",
          "text": [
            "XGBoost logloss for TFIDF: 0.059 \n"
          ],
          "name": "stdout"
        }
      ]
    },
    {
      "cell_type": "markdown",
      "metadata": {
        "id": "KYst8yoJd3P-",
        "colab_type": "text"
      },
      "source": [
        "Even better than SVM, wow.. Lets try on CountVectoriser."
      ]
    },
    {
      "cell_type": "code",
      "metadata": {
        "id": "fDVaUMy7d3P_",
        "colab_type": "code",
        "colab": {
          "base_uri": "https://localhost:8080/",
          "height": 34
        },
        "outputId": "634b4957-0bac-4b0c-9fe9-5fd0e23a6ca6"
      },
      "source": [
        "# fit xgboost on countvectoriser\n",
        "clf = xgb.XGBClassifier(max_depth=7,\n",
        "                       n_estimators=200,\n",
        "                       colsample_bytree=0.8,\n",
        "                       subsample=0.8,\n",
        "                       nthread=10,\n",
        "                       learning_rate=0.1)\n",
        "\n",
        "clf.fit(xtrain_ctv.tocsc(), ytrain)\n",
        "predictions = clf.predict_proba(xvalid_ctv.tocsc())\n",
        "\n",
        "print (\"XGBoost logloss for CountVectoriser: %0.3f \" % multiclass_logloss(yvalid, predictions))\n"
      ],
      "execution_count": 34,
      "outputs": [
        {
          "output_type": "stream",
          "text": [
            "XGBoost logloss for CountVectoriser: 0.051 \n"
          ],
          "name": "stdout"
        }
      ]
    },
    {
      "cell_type": "markdown",
      "metadata": {
        "id": "hEoUAz6Nd3QB",
        "colab_type": "text"
      },
      "source": [
        "Same results for CountVectoriser and TFIDF. A big limitation here might be the size of our dataset, only 1000 values. Perhaps we could have more and see how this works."
      ]
    },
    {
      "cell_type": "code",
      "metadata": {
        "id": "uHW7khsHd3QC",
        "colab_type": "code",
        "colab": {
          "base_uri": "https://localhost:8080/",
          "height": 34
        },
        "outputId": "a3e6791d-390e-409b-80cb-48a8ef2a7245"
      },
      "source": [
        "# fit xgboost on tf-idf svd features\n",
        "clf = xgb.XGBClassifier(max_depth=7,\n",
        "                       n_estimators=200,\n",
        "                       colsample_bytree=0.8,\n",
        "                       subsample=0.8,\n",
        "                       nthread=10,\n",
        "                       learning_rate=0.1)\n",
        "\n",
        "clf.fit(xtrain_svd, ytrain)\n",
        "predictions = clf.predict_proba(xvalid_svd)\n",
        "\n",
        "print (\"XGBoost logloss for SVD features: %0.3f \" % multiclass_logloss(yvalid, predictions))\n"
      ],
      "execution_count": 35,
      "outputs": [
        {
          "output_type": "stream",
          "text": [
            "XGBoost logloss for SVD features: 0.054 \n"
          ],
          "name": "stdout"
        }
      ]
    },
    {
      "cell_type": "markdown",
      "metadata": {
        "id": "mtZ0KHlkd3QE",
        "colab_type": "text"
      },
      "source": [
        "Slightly worse with SVD features. For our use case, XGBoost worked quite well."
      ]
    },
    {
      "cell_type": "markdown",
      "metadata": {
        "id": "Vqn1cA8Od3QF",
        "colab_type": "text"
      },
      "source": [
        "### Grid Search\n",
        "Will implement grid search using logistic regression."
      ]
    },
    {
      "cell_type": "code",
      "metadata": {
        "id": "NV62uJ1Qd3QF",
        "colab_type": "code",
        "colab": {}
      },
      "source": [
        "from sklearn import metrics\n",
        "# need to create a scoring function first. Use 'make_scorer'\n",
        "mll_scorer = metrics.make_scorer(multiclass_logloss, \n",
        "                                 greater_is_better=False, \n",
        "                                 needs_proba=True)"
      ],
      "execution_count": 0,
      "outputs": []
    },
    {
      "cell_type": "markdown",
      "metadata": {
        "id": "a_YmYBPbd3QH",
        "colab_type": "text"
      },
      "source": [
        "Require a pipeline, consisting of SVD scaling then Logistic Regression."
      ]
    },
    {
      "cell_type": "code",
      "metadata": {
        "id": "PZoJp-8sd3QI",
        "colab_type": "code",
        "colab": {}
      },
      "source": [
        "from sklearn import pipeline\n",
        "\n",
        "# Initialise SVD\n",
        "svd = TruncatedSVD()\n",
        "\n",
        "# Initialise standard scaler\n",
        "scl = preprocessing.StandardScaler()\n",
        "\n",
        "# Use Log Regression Here\n",
        "lr_model = LogisticRegression()\n",
        "\n",
        "# Create pipeline\n",
        "clf = pipeline.Pipeline([('svd', svd),\n",
        "                         ('scl', scl),\n",
        "                         ('lr', lr_model)])"
      ],
      "execution_count": 0,
      "outputs": []
    },
    {
      "cell_type": "markdown",
      "metadata": {
        "id": "VIcxmjfmd3QK",
        "colab_type": "text"
      },
      "source": [
        "Require a grid of parameters."
      ]
    },
    {
      "cell_type": "code",
      "metadata": {
        "id": "z4KYY64hd3QK",
        "colab_type": "code",
        "colab": {}
      },
      "source": [
        "param_grid = {'svd__n_components' : [120, 180],\n",
        "              'lr__C': [0.1, 1.0, 10], \n",
        "              'lr__penalty': ['l1', 'l2']}"
      ],
      "execution_count": 0,
      "outputs": []
    },
    {
      "cell_type": "markdown",
      "metadata": {
        "id": "7hBhCeVFd3QN",
        "colab_type": "text"
      },
      "source": [
        "For SVD, we evaluate 120 and 180 components and for Logistic Regression, we evaluate 3 different values of C with l1 and l2 penalty. Can start grid search with these parameters."
      ]
    },
    {
      "cell_type": "code",
      "metadata": {
        "id": "ggqGpp25d3QN",
        "colab_type": "code",
        "colab": {}
      },
      "source": [
        "from sklearn.model_selection import GridSearchCV\n",
        "# Initialise Grid Search Model\n",
        "model = GridSearchCV(estimator=clf,\n",
        "                    param_grid=param_grid,\n",
        "                    scoring=mll_scorer,\n",
        "                    verbose=10,\n",
        "                    n_jobs=-1,\n",
        "                    iid=True,\n",
        "                    refit=True,\n",
        "                    cv=2)\n",
        "\n",
        "\n",
        "# Fit Grid Search Model\n",
        "model.fit(xtrain_tfv, ytrain) # can also use full data\n",
        "\n",
        "# doesn't seem to work. May be something up with dataset?\n",
        "\n",
        "print(\"Best score: %0.3f\" % model.best_score_)\n",
        "best_parameters = model.best_estimator_.get_params()\n",
        "\n",
        "for param_name in sorted(param_grid.keys()):\n",
        "    print(\"\\t%s: %r\" % (param_name, best_parameters[param_name]))"
      ],
      "execution_count": 0,
      "outputs": []
    },
    {
      "cell_type": "markdown",
      "metadata": {
        "id": "EIS5gWJad3QP",
        "colab_type": "text"
      },
      "source": [
        "The above crashes my gridsearch, so will discontinue with gridsearch."
      ]
    },
    {
      "cell_type": "markdown",
      "metadata": {
        "id": "6NzexuOPd3QP",
        "colab_type": "text"
      },
      "source": [
        "### Word Vectors\n",
        "\n",
        "How to create sentence vectors and how we can use these to create a machinee learning model on top of it. Abishek Thakur recommends:\n",
        "-  GloVe vectors\n",
        "-  word2vec\n",
        "-  fasttext\n",
        "\n",
        "\n",
        "We will use GloVe vector in this instance. Can be downloaded from: http://www-nlp.stanford.edu/data/glove.840B.300d.zip"
      ]
    },
    {
      "cell_type": "code",
      "metadata": {
        "id": "zsrCHbmueUPX",
        "colab_type": "code",
        "colab": {
          "base_uri": "https://localhost:8080/",
          "height": 428
        },
        "outputId": "d51506cd-1c6f-47eb-94cd-45cf0b005e69"
      },
      "source": [
        "# Download GloVe (required for later on text embedding) and unzip\n",
        "!wget http://www-nlp.stanford.edu/data/glove.840B.300d.zip\n",
        "!unzip glove.840B.300d.zip"
      ],
      "execution_count": 45,
      "outputs": [
        {
          "output_type": "stream",
          "text": [
            "--2020-05-25 13:13:16--  http://www-nlp.stanford.edu/data/glove.840B.300d.zip\n",
            "Resolving www-nlp.stanford.edu (www-nlp.stanford.edu)... 171.64.67.140\n",
            "Connecting to www-nlp.stanford.edu (www-nlp.stanford.edu)|171.64.67.140|:80... connected.\n",
            "HTTP request sent, awaiting response... 302 Found\n",
            "Location: https://nlp.stanford.edu/data/glove.840B.300d.zip [following]\n",
            "--2020-05-25 13:13:16--  https://nlp.stanford.edu/data/glove.840B.300d.zip\n",
            "Resolving nlp.stanford.edu (nlp.stanford.edu)... 171.64.67.140\n",
            "Connecting to nlp.stanford.edu (nlp.stanford.edu)|171.64.67.140|:443... connected.\n",
            "HTTP request sent, awaiting response... 301 Moved Permanently\n",
            "Location: http://downloads.cs.stanford.edu/nlp/data/glove.840B.300d.zip [following]\n",
            "--2020-05-25 13:13:17--  http://downloads.cs.stanford.edu/nlp/data/glove.840B.300d.zip\n",
            "Resolving downloads.cs.stanford.edu (downloads.cs.stanford.edu)... 171.64.64.22\n",
            "Connecting to downloads.cs.stanford.edu (downloads.cs.stanford.edu)|171.64.64.22|:80... connected.\n",
            "HTTP request sent, awaiting response... 200 OK\n",
            "Length: 2176768927 (2.0G) [application/zip]\n",
            "Saving to: ‘glove.840B.300d.zip’\n",
            "\n",
            "glove.840B.300d.zip 100%[===================>]   2.03G  1.93MB/s    in 16m 57s \n",
            "\n",
            "2020-05-25 13:30:14 (2.04 MB/s) - ‘glove.840B.300d.zip’ saved [2176768927/2176768927]\n",
            "\n",
            "Archive:  glove.840B.300d.zip\n",
            "  inflating: glove.840B.300d.txt     \n"
          ],
          "name": "stdout"
        }
      ]
    },
    {
      "cell_type": "code",
      "metadata": {
        "id": "nslObTBFd3QQ",
        "colab_type": "code",
        "colab": {
          "base_uri": "https://localhost:8080/",
          "height": 105
        },
        "outputId": "eb30f15f-a582-4c55-eed2-c4e027f32886"
      },
      "source": [
        "from tqdm import tqdm\n",
        "# load GloVe vectors in a directory\n",
        "embeddings_index = {}\n",
        "non_appendable_words = []\n",
        "f = open('glove.840B.300d.txt')\n",
        "for line in tqdm(f):\n",
        "    try:\n",
        "        values = line.split()\n",
        "        word = values[0].strip()\n",
        "        coefs = np.asarray(values[1::], dtype='float32')\n",
        "        embeddings_index[word] = coefs\n",
        "    except Exception:\n",
        "        non_appendable_words.append(word)\n",
        "f.close()\n",
        "\n",
        "print('Found %s word vectors.' % len(embeddings_index))\n",
        "print(f\"Could not append {len(set(non_appendable_words))} words:\")\n",
        "print(set(non_appendable_words))"
      ],
      "execution_count": 47,
      "outputs": [
        {
          "output_type": "stream",
          "text": [
            "2196017it [03:13, 11354.79it/s]"
          ],
          "name": "stderr"
        },
        {
          "output_type": "stream",
          "text": [
            "Found 2195884 word vectors.\n",
            "Could not append 15 words:\n",
            "{'Email', 'email', 'or', 'to', 'Contact', '•', 'on', 'at', 'contact', 'emailing', '.', 'is', 'by', 'in', 'At'}\n"
          ],
          "name": "stdout"
        },
        {
          "output_type": "stream",
          "text": [
            "\n"
          ],
          "name": "stderr"
        }
      ]
    },
    {
      "cell_type": "code",
      "metadata": {
        "id": "sO3-VC5Ld3QU",
        "colab_type": "code",
        "colab": {
          "base_uri": "https://localhost:8080/",
          "height": 51
        },
        "outputId": "ae055a68-1318-4ba9-dc2d-5fdf95d3ad76"
      },
      "source": [
        "import nltk\n",
        "nltk.download('stopwords')\n",
        "\n",
        "from nltk import word_tokenize\n",
        "from nltk.corpus import stopwords\n",
        "stopwords = stopwords.words('english')\n",
        "# create normalised vector for the whole sentence\n",
        "def sent2vec(s, embedding_index):\n",
        "    \"\"\"Create normalised vector for a whole sentence.\n",
        "    :param s:\n",
        "    :param embedding_index:\n",
        "    :return normalised_vector:\n",
        "    \"\"\"\n",
        "    words = str(s).lower()#.decode('utf-8')\n",
        "    words = word_tokenize(words)\n",
        "    words = [w for w in words if not w in stopwords]\n",
        "    words = [w for w in words if w.isalpha()]\n",
        "    M = []\n",
        "    for w in words:\n",
        "        try:\n",
        "            M.append(embedding_index[w])\n",
        "        except:\n",
        "            continue\n",
        "    M = np.array(M)\n",
        "    v = M.sum(axis=0)\n",
        "    if type(v) != np.ndarray:\n",
        "        return np.zeros(300)\n",
        "    return v / np.sqrt((v**2).sum())"
      ],
      "execution_count": 49,
      "outputs": [
        {
          "output_type": "stream",
          "text": [
            "[nltk_data] Downloading package stopwords to /root/nltk_data...\n",
            "[nltk_data]   Unzipping corpora/stopwords.zip.\n"
          ],
          "name": "stdout"
        }
      ]
    },
    {
      "cell_type": "code",
      "metadata": {
        "id": "jdLnD17Fd3QX",
        "colab_type": "code",
        "colab": {
          "base_uri": "https://localhost:8080/",
          "height": 85
        },
        "outputId": "f38a4f94-2123-4d3e-bba5-80641fcb00cf"
      },
      "source": [
        "import nltk\n",
        "nltk.download('punkt')\n",
        "\n",
        "# create sentence vectorss using the above for train and val\n",
        "xtrain_glove = [sent2vec(x, embeddings_index) for x in tqdm(xtrain)]\n",
        "xvalid_glove = [sent2vec(x, embeddings_index) for x in tqdm(xvalid)]\n",
        "\n",
        "xtrain_glove = np.array(xtrain_glove)\n",
        "xvalid_glove = np.array(xvalid_glove)"
      ],
      "execution_count": 50,
      "outputs": [
        {
          "output_type": "stream",
          "text": [
            "[nltk_data] Downloading package punkt to /root/nltk_data...\n",
            "[nltk_data]   Unzipping tokenizers/punkt.zip.\n"
          ],
          "name": "stdout"
        },
        {
          "output_type": "stream",
          "text": [
            "100%|██████████| 900/900 [00:00<00:00, 3527.83it/s]\n",
            "100%|██████████| 100/100 [00:00<00:00, 3452.02it/s]\n"
          ],
          "name": "stderr"
        }
      ]
    },
    {
      "cell_type": "markdown",
      "metadata": {
        "id": "HvIQR21gd3QZ",
        "colab_type": "text"
      },
      "source": [
        "See performance of XGBoost glove features."
      ]
    },
    {
      "cell_type": "code",
      "metadata": {
        "id": "M-LsvkVud3QZ",
        "colab_type": "code",
        "colab": {
          "base_uri": "https://localhost:8080/",
          "height": 34
        },
        "outputId": "27a45d37-d87c-4f49-c03e-a9a362ab5114"
      },
      "source": [
        "# fit simple xgboost on glove features\n",
        "\n",
        "clf = xgb.XGBClassifier(max_depth=7,\n",
        "                       n_estimators=200,\n",
        "                       colsample_bytree=0.8,\n",
        "                       subsample=0.8,\n",
        "                       nthread=10,\n",
        "                       learning_rate=0.1)\n",
        "clf.fit(xtrain_glove, ytrain)\n",
        "predictions = clf.predict_proba(xvalid_glove)\n",
        "\n",
        "print (\"XGBoost on Glove features logloss: %0.3f \" % multiclass_logloss(yvalid, predictions))\n"
      ],
      "execution_count": 51,
      "outputs": [
        {
          "output_type": "stream",
          "text": [
            "XGBoost on Glove features logloss: 0.329 \n"
          ],
          "name": "stdout"
        }
      ]
    },
    {
      "cell_type": "markdown",
      "metadata": {
        "id": "ucQDIHY0d3Qb",
        "colab_type": "text"
      },
      "source": [
        "Seems that GloVe for this use case has not beared too much fruit. Was cool to learn anyway. We can also use it in trying a Deep Learning Solution.\n",
        "\n",
        "### Deep Learning\n",
        "\n",
        "Can play with parameters to be much more powerful."
      ]
    },
    {
      "cell_type": "code",
      "metadata": {
        "id": "Z2zMKEy6d3Qb",
        "colab_type": "code",
        "colab": {}
      },
      "source": [
        "# scale the data before neural net. Use same scaler for valid as for train\n",
        "scl = preprocessing.StandardScaler()\n",
        "xtrain_glove_scl = scl.fit_transform(xtrain_glove)\n",
        "xvalid_glove_scl = scl.transform(xvalid_glove)"
      ],
      "execution_count": 0,
      "outputs": []
    },
    {
      "cell_type": "code",
      "metadata": {
        "id": "S1Kbd0Vxd3Qf",
        "colab_type": "code",
        "colab": {}
      },
      "source": [
        "from keras.utils import np_utils\n",
        "# Must turn labels to binary for neural net\n",
        "ytrain_enc = np_utils.to_categorical(ytrain)\n",
        "yvalid_enc = np_utils.to_categorical(yvalid)"
      ],
      "execution_count": 0,
      "outputs": []
    },
    {
      "cell_type": "code",
      "metadata": {
        "id": "mCGctkyhFaiZ",
        "colab_type": "code",
        "colab": {}
      },
      "source": [
        "from keras.models import Sequential\n",
        "from keras.layers.core import Dense, Activation, Dropout\n",
        "from keras.layers.normalization import BatchNormalization\n",
        "\n",
        "# simple 3 layer sequential NN\n",
        "model = Sequential()\n",
        "\n",
        "model.add(Dense(300, input_dim=300, activation='relu'))\n",
        "model.add(Dropout(0.2))\n",
        "model.add(BatchNormalization())\n",
        "\n",
        "model.add(Dense(300, activation='relu'))\n",
        "model.add(Dropout(0.3))\n",
        "model.add(BatchNormalization())\n",
        "\n",
        "model.add(Dense(2))\n",
        "model.add(Activation('softmax'))\n",
        "\n",
        "# compile the model\n",
        "model.compile(loss='categorical_crossentropy', optimizer='adam')"
      ],
      "execution_count": 0,
      "outputs": []
    },
    {
      "cell_type": "code",
      "metadata": {
        "id": "fznzI32CFf_5",
        "colab_type": "code",
        "colab": {
          "base_uri": "https://localhost:8080/",
          "height": 34
        },
        "outputId": "dc94357c-d438-4d35-bc63-9e1d6cd67cbb"
      },
      "source": [
        "# train our model\n",
        "model.fit(xtrain_glove_scl,\n",
        "          y=ytrain_enc,\n",
        "          batch_size=64,\n",
        "          epochs=10,\n",
        "          verbose=0,\n",
        "          validation_data=(xvalid_glove_scl, yvalid_enc))"
      ],
      "execution_count": 102,
      "outputs": [
        {
          "output_type": "execute_result",
          "data": {
            "text/plain": [
              "<keras.callbacks.callbacks.History at 0x7f4ee7721080>"
            ]
          },
          "metadata": {
            "tags": []
          },
          "execution_count": 102
        }
      ]
    },
    {
      "cell_type": "code",
      "metadata": {
        "id": "hhz0pnQ3H7MR",
        "colab_type": "code",
        "colab": {
          "base_uri": "https://localhost:8080/",
          "height": 34
        },
        "outputId": "8e9663d7-fd51-48dd-daf1-c124e0475a35"
      },
      "source": [
        "dnn_prerdictions=model.predict(xvalid_glove_scl)\n",
        "\n",
        "print (\"DNN model predictions: %0.3f \" % multiclass_logloss(yvalid, dnn_prerdictions))\n"
      ],
      "execution_count": 103,
      "outputs": [
        {
          "output_type": "stream",
          "text": [
            "DNN model predictions: 0.240 \n"
          ],
          "name": "stdout"
        }
      ]
    },
    {
      "cell_type": "markdown",
      "metadata": {
        "id": "70UQkl9NIrMO",
        "colab_type": "text"
      },
      "source": [
        "Could do a lot of tuning, tweaking etc.. to improve and get better results. We will move on with LSTM now, this requires tokenisation of data."
      ]
    },
    {
      "cell_type": "code",
      "metadata": {
        "id": "Gwlj88FcJoQF",
        "colab_type": "code",
        "colab": {}
      },
      "source": [
        "# TODO: Look at why we need to tokenise for LSTM\n",
        "from keras.preprocessing import sequence, text\n",
        "# using keras tokenizer here\n",
        "token = text.Tokenizer(num_words=None)\n",
        "max_len = 70\n",
        "\n",
        "token.fit_on_texts(list(xtrain) + list(xvalid))\n",
        "xtrain_seq = token.texts_to_sequences(xtrain)\n",
        "xvalid_seq = token.texts_to_sequences(xvalid)\n",
        "\n",
        "# zero pad the sequences\n",
        "xtrain_pad = sequence.pad_sequences(xtrain_seq, maxlen=max_len)\n",
        "xvalid_pad = sequence.pad_sequences(xvalid_seq, maxlen=max_len)\n",
        "\n",
        "word_index = token.word_index"
      ],
      "execution_count": 0,
      "outputs": []
    },
    {
      "cell_type": "code",
      "metadata": {
        "id": "R65DgOqyKg33",
        "colab_type": "code",
        "colab": {
          "base_uri": "https://localhost:8080/",
          "height": 34
        },
        "outputId": "93eb10e7-d4c4-4166-fc50-d7311dc055c7"
      },
      "source": [
        "# TODO: Look into embedding matrix\n",
        "# create an embedding matrix for the words we have in the dataset\n",
        "embedding_matrix = np.zeros((len(word_index) + 1, 300))\n",
        "for word, i in tqdm(word_index.items()):\n",
        "    embedding_vector = embeddings_index.get(word)\n",
        "    if embedding_vector is not None:\n",
        "        embedding_matrix[i] = embedding_vector"
      ],
      "execution_count": 108,
      "outputs": [
        {
          "output_type": "stream",
          "text": [
            "100%|██████████| 2921/2921 [00:00<00:00, 175813.47it/s]\n"
          ],
          "name": "stderr"
        }
      ]
    },
    {
      "cell_type": "code",
      "metadata": {
        "id": "lXYUTvggLeoi",
        "colab_type": "code",
        "colab": {}
      },
      "source": [
        "# TODO: Look into spatial dropout\n",
        "from keras.layers.embeddings import Embedding\n",
        "from keras.layers.recurrent import LSTM\n",
        "from keras.layers import SpatialDropout1D\n",
        "\n",
        "# A simple LSTM with glove embeddings and two dense layerss\n",
        "model = Sequential()\n",
        "model.add(Embedding(len(word_index) + 1,\n",
        "                    300,\n",
        "                    weights=[embedding_matrix],\n",
        "                    input_length=max_len,\n",
        "                    trainable=False))\n",
        "model.add(SpatialDropout1D(0.3))\n",
        "model.add(LSTM(100, dropout=0.3, recurrent_dropout=0.3))\n",
        "\n",
        "model.add(Dense(1024, activation='relu'))\n",
        "model.add(Dropout(0.8))\n",
        "\n",
        "model.add(Dense(1024, activation='relu'))\n",
        "model.add(Dropout(0.8))\n",
        "\n",
        "model.add(Dense(2))\n",
        "model.add(Activation('softmax'))\n",
        "model.compile(loss='categorical_crossentropy', optimizer='adam')"
      ],
      "execution_count": 0,
      "outputs": []
    },
    {
      "cell_type": "code",
      "metadata": {
        "id": "26T2ohXZMM6a",
        "colab_type": "code",
        "colab": {
          "base_uri": "https://localhost:8080/",
          "height": 34
        },
        "outputId": "c967dcaf-aa15-4fba-e3df-08e64d3b0ef8"
      },
      "source": [
        "model.fit(xtrain_pad, \n",
        "          y=ytrain_enc, \n",
        "          batch_size=512, \n",
        "          epochs=100, \n",
        "          verbose=0, \n",
        "          validation_data=(xvalid_pad, yvalid_enc))"
      ],
      "execution_count": 115,
      "outputs": [
        {
          "output_type": "execute_result",
          "data": {
            "text/plain": [
              "<keras.callbacks.callbacks.History at 0x7f4ee6bedf28>"
            ]
          },
          "metadata": {
            "tags": []
          },
          "execution_count": 115
        }
      ]
    },
    {
      "cell_type": "code",
      "metadata": {
        "id": "XS6qJCZpM8YJ",
        "colab_type": "code",
        "colab": {
          "base_uri": "https://localhost:8080/",
          "height": 34
        },
        "outputId": "6b232b05-6ce6-469b-ab1f-ea7b6f5aaba2"
      },
      "source": [
        "lstm_prerdictions=model.predict(xvalid_pad)\n",
        "\n",
        "print (\"LSTM model Loss: %0.3f \" % multiclass_logloss(yvalid_enc, lstm_prerdictions))\n"
      ],
      "execution_count": 118,
      "outputs": [
        {
          "output_type": "stream",
          "text": [
            "LSTM model predictions: 0.577 \n"
          ],
          "name": "stdout"
        }
      ]
    },
    {
      "cell_type": "markdown",
      "metadata": {
        "id": "35XIEUcZNO0V",
        "colab_type": "text"
      },
      "source": [
        "The currrent loss is above 0.5 . Perhaps we can reduce overfitting with early stopping."
      ]
    },
    {
      "cell_type": "code",
      "metadata": {
        "id": "TKUnsYdHN2Vu",
        "colab_type": "code",
        "colab": {
          "base_uri": "https://localhost:8080/",
          "height": 34
        },
        "outputId": "cf117d3f-f064-44f7-e785-aeacb6753c0f"
      },
      "source": [
        "from keras.callbacks import EarlyStopping\n",
        "\n",
        "# A simple LSTM with glove embeddings and two dense layers\n",
        "model = Sequential()\n",
        "model.add(Embedding(len(word_index) + 1,\n",
        "                     300,\n",
        "                     weights=[embedding_matrix],\n",
        "                     input_length=max_len,\n",
        "                     trainable=False))\n",
        "model.add(SpatialDropout1D(0.3))\n",
        "model.add(LSTM(300, dropout=0.3, recurrent_dropout=0.3))\n",
        "\n",
        "model.add(Dense(1024, activation='relu'))\n",
        "model.add(Dropout(0.8))\n",
        "\n",
        "model.add(Dense(1024, activation='relu'))\n",
        "model.add(Dropout(0.8))\n",
        "\n",
        "model.add(Dense(2))\n",
        "model.add(Activation('softmax'))\n",
        "model.compile(loss='categorical_crossentropy', optimizer='adam')\n",
        "\n",
        "# Fit the model with early stopping callback\n",
        "earlystop = EarlyStopping(monitor='val_loss', \n",
        "                          min_delta=0, \n",
        "                          patience=3, \n",
        "                          verbose=0, \n",
        "                          mode='auto')\n",
        "model.fit(xtrain_pad, \n",
        "          y=ytrain_enc, \n",
        "          batch_size=512, \n",
        "          epochs=100, \n",
        "          verbose=0, \n",
        "          validation_data=(xvalid_pad, yvalid_enc), \n",
        "          callbacks=[earlystop])"
      ],
      "execution_count": 121,
      "outputs": [
        {
          "output_type": "execute_result",
          "data": {
            "text/plain": [
              "<keras.callbacks.callbacks.History at 0x7f4ee657e780>"
            ]
          },
          "metadata": {
            "tags": []
          },
          "execution_count": 121
        }
      ]
    },
    {
      "cell_type": "code",
      "metadata": {
        "id": "XBL8Q0CAObw0",
        "colab_type": "code",
        "colab": {
          "base_uri": "https://localhost:8080/",
          "height": 34
        },
        "outputId": "3821c068-f69a-4e31-9f7e-3532d3b702e0"
      },
      "source": [
        "lstm_prerdictions=model.predict(xvalid_pad)\n",
        "\n",
        "print (\"Earlystopping LSTM model Loss: %0.3f \" % multiclass_logloss(yvalid_enc, lstm_prerdictions))\n"
      ],
      "execution_count": 122,
      "outputs": [
        {
          "output_type": "stream",
          "text": [
            "Earlystopping LSTM model predictions: 0.475 \n"
          ],
          "name": "stdout"
        }
      ]
    },
    {
      "cell_type": "markdown",
      "metadata": {
        "id": "p0vxxZwtOf_q",
        "colab_type": "text"
      },
      "source": [
        "Slightly better but unlikely where we want to be.. Maybe this requires more data for a DNN to work well. For the sake of having examples, we will continue."
      ]
    },
    {
      "cell_type": "code",
      "metadata": {
        "id": "5e8PguNfT9Bf",
        "colab_type": "code",
        "colab": {
          "base_uri": "https://localhost:8080/",
          "height": 34
        },
        "outputId": "868ce88c-786a-479e-a69d-3fa51ddb7674"
      },
      "source": [
        "# TODO: Look into bidirectional LSTM\n",
        "from keras.layers import Bidirectional\n",
        "\n",
        "# A simple bidirectional LSTM with glove embeddings and two dense layers\n",
        "model = Sequential()\n",
        "model.add(Embedding(len(word_index) + 1,\n",
        "                     300,\n",
        "                     weights=[embedding_matrix],\n",
        "                     input_length=max_len,\n",
        "                     trainable=False))\n",
        "model.add(SpatialDropout1D(0.3))\n",
        "model.add(Bidirectional(LSTM(300, dropout=0.3, recurrent_dropout=0.3)))\n",
        "\n",
        "model.add(Dense(1024, activation='relu'))\n",
        "model.add(Dropout(0.8))\n",
        "\n",
        "model.add(Dense(1024, activation='relu'))\n",
        "model.add(Dropout(0.8))\n",
        "\n",
        "model.add(Dense(2))\n",
        "model.add(Activation('softmax'))\n",
        "model.compile(loss='categorical_crossentropy', optimizer='adam')\n",
        "\n",
        "# Fit the model with early stopping callback\n",
        "earlystop = EarlyStopping(monitor='val_loss', \n",
        "                          min_delta=0, \n",
        "                          patience=3,\n",
        "                          verbose=0, \n",
        "                          mode='auto')\n",
        "model.fit(xtrain_pad, \n",
        "          y=ytrain_enc, \n",
        "          batch_size=512, \n",
        "          epochs=100, \n",
        "          verbose=0, \n",
        "          validation_data=(xvalid_pad, yvalid_enc), \n",
        "          callbacks=[earlystop])"
      ],
      "execution_count": 126,
      "outputs": [
        {
          "output_type": "execute_result",
          "data": {
            "text/plain": [
              "<keras.callbacks.callbacks.History at 0x7f4ee661d940>"
            ]
          },
          "metadata": {
            "tags": []
          },
          "execution_count": 126
        }
      ]
    },
    {
      "cell_type": "code",
      "metadata": {
        "id": "IYA4L_UUUXZF",
        "colab_type": "code",
        "colab": {
          "base_uri": "https://localhost:8080/",
          "height": 34
        },
        "outputId": "10ccd02d-0472-4c26-aa16-685d290ae7fb"
      },
      "source": [
        "lstm_prerdictions=model.predict(xvalid_pad)\n",
        "\n",
        "print (\"Earlystopping Bidirectional LSTM model Loss: %0.3f \" % multiclass_logloss(yvalid_enc, lstm_prerdictions))\n"
      ],
      "execution_count": 127,
      "outputs": [
        {
          "output_type": "stream",
          "text": [
            "Earlystopping Bidirectional LSTM model Loss: 0.459 \n"
          ],
          "name": "stdout"
        }
      ]
    },
    {
      "cell_type": "code",
      "metadata": {
        "id": "G_zQea87Utem",
        "colab_type": "code",
        "colab": {
          "base_uri": "https://localhost:8080/",
          "height": 207
        },
        "outputId": "bfb53dc7-8908-4e3a-dfa1-80c22af67c7e"
      },
      "source": [
        "# TODO: Look into GRU\n",
        "from keras.layers.recurrent import GRU\n",
        "\n",
        "# GRU with glove embeddings and two dense layers\n",
        "model = Sequential()\n",
        "model.add(Embedding(len(word_index) + 1,\n",
        "                     300,\n",
        "                     weights=[embedding_matrix],\n",
        "                     input_length=max_len,\n",
        "                     trainable=False))\n",
        "model.add(SpatialDropout1D(0.3))\n",
        "model.add(GRU(300, dropout=0.3, recurrent_dropout=0.3, return_sequences=True))\n",
        "model.add(GRU(300, dropout=0.3, recurrent_dropout=0.3))\n",
        "\n",
        "model.add(Dense(1024, activation='relu'))\n",
        "model.add(Dropout(0.8))\n",
        "\n",
        "model.add(Dense(1024, activation='relu'))\n",
        "model.add(Dropout(0.8))\n",
        "\n",
        "model.add(Dense(2))\n",
        "model.add(Activation('softmax'))\n",
        "model.compile(loss='categorical_crossentropy', optimizer='adam')\n",
        "\n",
        "# Fit the model with early stopping callback\n",
        "earlystop = EarlyStopping(monitor='val_loss', \n",
        "                          min_delta=0, \n",
        "                          patience=3, \n",
        "                          verbose=0, \n",
        "                          mode='auto')\n",
        "model.fit(xtrain_pad, \n",
        "          y=ytrain_enc, \n",
        "          batch_size=512, \n",
        "          epochs=100, \n",
        "          verbose=0, \n",
        "          validation_data=(xvalid_pad, yvalid_enc), \n",
        "          callbacks=[earlystop])"
      ],
      "execution_count": 129,
      "outputs": [
        {
          "output_type": "stream",
          "text": [
            "Train on 900 samples, validate on 100 samples\n",
            "Epoch 1/100\n",
            "900/900 [==============================] - 2s 3ms/step - loss: 0.8092 - val_loss: 0.4538\n",
            "Epoch 2/100\n",
            "900/900 [==============================] - 1s 1ms/step - loss: 0.6608 - val_loss: 0.4866\n",
            "Epoch 3/100\n",
            "900/900 [==============================] - 1s 1ms/step - loss: 0.5588 - val_loss: 0.5600\n",
            "Epoch 4/100\n",
            "900/900 [==============================] - 1s 1ms/step - loss: 0.5121 - val_loss: 0.6216\n"
          ],
          "name": "stdout"
        },
        {
          "output_type": "execute_result",
          "data": {
            "text/plain": [
              "<keras.callbacks.callbacks.History at 0x7f4ee51b8cf8>"
            ]
          },
          "metadata": {
            "tags": []
          },
          "execution_count": 129
        }
      ]
    },
    {
      "cell_type": "code",
      "metadata": {
        "id": "b9qCiTz0U750",
        "colab_type": "code",
        "colab": {
          "base_uri": "https://localhost:8080/",
          "height": 34
        },
        "outputId": "0ae23fce-2e4c-4e74-da33-843c4bd86de1"
      },
      "source": [
        "gru_prerdictions=model.predict(xvalid_pad)\n",
        "\n",
        "print (\"GRU model Loss: %0.3f \" % multiclass_logloss(yvalid_enc, gru_prerdictions))\n"
      ],
      "execution_count": 130,
      "outputs": [
        {
          "output_type": "stream",
          "text": [
            "GRU model Loss: 0.622 \n"
          ],
          "name": "stdout"
        }
      ]
    },
    {
      "cell_type": "markdown",
      "metadata": {
        "id": "49XsjXW7VE3s",
        "colab_type": "text"
      },
      "source": [
        "Soooo not so good in this instance. Still, has given us lots that we can learn."
      ]
    },
    {
      "cell_type": "markdown",
      "metadata": {
        "id": "UfErbIApWGGF",
        "colab_type": "text"
      },
      "source": [
        "### Ensembling"
      ]
    },
    {
      "cell_type": "code",
      "metadata": {
        "id": "md-bqr6Gd3Qh",
        "colab_type": "code",
        "colab": {}
      },
      "source": [
        "\n"
      ],
      "execution_count": 0,
      "outputs": []
    }
  ]
}