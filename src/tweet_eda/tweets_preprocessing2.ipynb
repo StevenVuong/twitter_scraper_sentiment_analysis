{
 "cells": [
  {
   "cell_type": "markdown",
   "metadata": {},
   "source": [
    "Author: Steven Vuong <br>\n",
    "Last Edited: 20/05/2020\n",
    "\n",
    "Here we pick off where we left off with the last preprocessing notebook. We have our processed raw tweets and want to apply another processing step. Firstly, we must open our processed data first."
   ]
  },
  {
   "cell_type": "code",
   "execution_count": 16,
   "metadata": {},
   "outputs": [],
   "source": [
    "import pandas as pd\n",
    "import numpy as np\n",
    "import matplotlib.pyplot as plt\n",
    "import seaborn as sns\n",
    "\n",
    "%matplotlib inline"
   ]
  },
  {
   "cell_type": "code",
   "execution_count": 2,
   "metadata": {},
   "outputs": [],
   "source": [
    "pkl_savepath = \"../../data/tweets_processed.pkl\"\n",
    "tweets_df = pd.read_pickle(pkl_savepath) "
   ]
  },
  {
   "cell_type": "markdown",
   "metadata": {},
   "source": [
    "We will drop the hashtags column as we have used this to create our predictive labels. It is possiblle that other features from this may be used to help predict other hashtags. For the time being, however, we will not consider it so. <br>\n",
    "In addition, we will drop our original tweet_text column as we have the processed form of it."
   ]
  },
  {
   "cell_type": "code",
   "execution_count": 3,
   "metadata": {},
   "outputs": [
    {
     "data": {
      "text/html": [
       "<div>\n",
       "<style scoped>\n",
       "    .dataframe tbody tr th:only-of-type {\n",
       "        vertical-align: middle;\n",
       "    }\n",
       "\n",
       "    .dataframe tbody tr th {\n",
       "        vertical-align: top;\n",
       "    }\n",
       "\n",
       "    .dataframe thead th {\n",
       "        text-align: right;\n",
       "    }\n",
       "</style>\n",
       "<table border=\"1\" class=\"dataframe\">\n",
       "  <thead>\n",
       "    <tr style=\"text-align: right;\">\n",
       "      <th></th>\n",
       "      <th>tweet_creation_date</th>\n",
       "      <th>tweet_retweet_count</th>\n",
       "      <th>tweet_favourite_count</th>\n",
       "      <th>user_follow_count</th>\n",
       "      <th>user_created_at</th>\n",
       "      <th>user_verified</th>\n",
       "      <th>processed_tweets</th>\n",
       "      <th>covid_hashtag</th>\n",
       "    </tr>\n",
       "  </thead>\n",
       "  <tbody>\n",
       "    <tr>\n",
       "      <th>0</th>\n",
       "      <td>2020-05-17 14:36:25</td>\n",
       "      <td>111</td>\n",
       "      <td>0</td>\n",
       "      <td>32</td>\n",
       "      <td>2018-09-17 22:49:14</td>\n",
       "      <td>False</td>\n",
       "      <td>rt @jdfarag sun enter ‘lockdown’ period could ...</td>\n",
       "      <td>False</td>\n",
       "    </tr>\n",
       "    <tr>\n",
       "      <th>1</th>\n",
       "      <td>2020-05-17 14:27:49</td>\n",
       "      <td>0</td>\n",
       "      <td>0</td>\n",
       "      <td>974</td>\n",
       "      <td>2016-06-28 19:39:16</td>\n",
       "      <td>False</td>\n",
       "      <td>kenya pastoralists face hunger conflict locust...</td>\n",
       "      <td>False</td>\n",
       "    </tr>\n",
       "    <tr>\n",
       "      <th>2</th>\n",
       "      <td>2020-05-17 14:21:52</td>\n",
       "      <td>36</td>\n",
       "      <td>0</td>\n",
       "      <td>27</td>\n",
       "      <td>2010-05-29 12:41:00</td>\n",
       "      <td>False</td>\n",
       "      <td>rt @drvandanashiva essentialcommoditiesact use...</td>\n",
       "      <td>False</td>\n",
       "    </tr>\n",
       "    <tr>\n",
       "      <th>3</th>\n",
       "      <td>2020-05-17 14:15:25</td>\n",
       "      <td>0</td>\n",
       "      <td>0</td>\n",
       "      <td>836</td>\n",
       "      <td>2009-03-27 01:52:54</td>\n",
       "      <td>False</td>\n",
       "      <td>man could literally hunger entire world choose...</td>\n",
       "      <td>False</td>\n",
       "    </tr>\n",
       "    <tr>\n",
       "      <th>4</th>\n",
       "      <td>2020-05-17 14:14:25</td>\n",
       "      <td>7</td>\n",
       "      <td>0</td>\n",
       "      <td>375</td>\n",
       "      <td>2014-07-04 16:19:51</td>\n",
       "      <td>False</td>\n",
       "      <td>rt presidential april year president express c...</td>\n",
       "      <td>False</td>\n",
       "    </tr>\n",
       "  </tbody>\n",
       "</table>\n",
       "</div>"
      ],
      "text/plain": [
       "   tweet_creation_date  tweet_retweet_count  tweet_favourite_count  \\\n",
       "0  2020-05-17 14:36:25                  111                      0   \n",
       "1  2020-05-17 14:27:49                    0                      0   \n",
       "2  2020-05-17 14:21:52                   36                      0   \n",
       "3  2020-05-17 14:15:25                    0                      0   \n",
       "4  2020-05-17 14:14:25                    7                      0   \n",
       "\n",
       "   user_follow_count      user_created_at  user_verified  \\\n",
       "0                 32  2018-09-17 22:49:14          False   \n",
       "1                974  2016-06-28 19:39:16          False   \n",
       "2                 27  2010-05-29 12:41:00          False   \n",
       "3                836  2009-03-27 01:52:54          False   \n",
       "4                375  2014-07-04 16:19:51          False   \n",
       "\n",
       "                                    processed_tweets  covid_hashtag  \n",
       "0  rt @jdfarag sun enter ‘lockdown’ period could ...          False  \n",
       "1  kenya pastoralists face hunger conflict locust...          False  \n",
       "2  rt @drvandanashiva essentialcommoditiesact use...          False  \n",
       "3  man could literally hunger entire world choose...          False  \n",
       "4  rt presidential april year president express c...          False  "
      ]
     },
     "execution_count": 3,
     "metadata": {},
     "output_type": "execute_result"
    }
   ],
   "source": [
    "tweets_df = tweets_df.drop(['tweet_text', 'tweet_hashtags'], axis=1)\n",
    "tweets_df.head()"
   ]
  },
  {
   "cell_type": "markdown",
   "metadata": {},
   "source": [
    "In theory, we could use the date as a feature to consider. However, the tweets we have scraped ranges from a short time period."
   ]
  },
  {
   "cell_type": "code",
   "execution_count": 4,
   "metadata": {},
   "outputs": [],
   "source": [
    "# convert to datetime\n",
    "tweets_df['tweet_creation_date'] = pd.to_datetime(tweets_df['tweet_creation_date'])\n",
    "tweets_df['user_created_at'] = pd.to_datetime(tweets_df['user_created_at'])"
   ]
  },
  {
   "cell_type": "code",
   "execution_count": 5,
   "metadata": {},
   "outputs": [
    {
     "name": "stdout",
     "output_type": "stream",
     "text": [
      "Earliest Tweet Scraped was at 2020-05-14 04:39:47\n",
      "Latest Tweet Scraped was at 2020-05-17 14:36:25\n"
     ]
    }
   ],
   "source": [
    "earliest_tweet_time = tweets_df['tweet_creation_date'].min()\n",
    "latest_tweet_time = tweets_df['tweet_creation_date'].max()\n",
    "\n",
    "print(f\"Earliest Tweet Scraped was at {earliest_tweet_time}\")\n",
    "print(f\"Latest Tweet Scraped was at {latest_tweet_time}\")"
   ]
  },
  {
   "cell_type": "markdown",
   "metadata": {},
   "source": [
    "We see the time difference is only 10 hours. Potentially we could make a column of 'hour_tweeted' out of it. However this does not cover all potential hours and there is not enough data. So we will make the decision to drop this column."
   ]
  },
  {
   "cell_type": "code",
   "execution_count": 6,
   "metadata": {},
   "outputs": [],
   "source": [
    "tweets_df = tweets_df.drop('tweet_creation_date', axis=1)"
   ]
  },
  {
   "cell_type": "markdown",
   "metadata": {},
   "source": [
    "Look at user creation date now."
   ]
  },
  {
   "cell_type": "code",
   "execution_count": 7,
   "metadata": {},
   "outputs": [
    {
     "name": "stdout",
     "output_type": "stream",
     "text": [
      "Earliest User Created at 2007-05-11 08:38:01\n",
      "Latest User Created at 2020-05-16 23:00:12\n"
     ]
    }
   ],
   "source": [
    "earliest_user_creation_timestamp = tweets_df['user_created_at'].min()\n",
    "latest_user_creation_timestamp = tweets_df['user_created_at'].max()\n",
    "\n",
    "print(f\"Earliest User Created at {earliest_user_creation_timestamp}\")\n",
    "print(f\"Latest User Created at {latest_user_creation_timestamp}\")"
   ]
  },
  {
   "cell_type": "markdown",
   "metadata": {},
   "source": [
    "Quite a wide range. From 2007 all the way up until the day before scraping. Let's see if we can visualise this."
   ]
  },
  {
   "cell_type": "code",
   "execution_count": 8,
   "metadata": {},
   "outputs": [
    {
     "data": {
      "text/html": [
       "<div>\n",
       "<style scoped>\n",
       "    .dataframe tbody tr th:only-of-type {\n",
       "        vertical-align: middle;\n",
       "    }\n",
       "\n",
       "    .dataframe tbody tr th {\n",
       "        vertical-align: top;\n",
       "    }\n",
       "\n",
       "    .dataframe thead th {\n",
       "        text-align: right;\n",
       "    }\n",
       "</style>\n",
       "<table border=\"1\" class=\"dataframe\">\n",
       "  <thead>\n",
       "    <tr style=\"text-align: right;\">\n",
       "      <th></th>\n",
       "      <th>tweet_retweet_count</th>\n",
       "      <th>tweet_favourite_count</th>\n",
       "      <th>user_follow_count</th>\n",
       "      <th>user_created_at</th>\n",
       "      <th>user_verified</th>\n",
       "      <th>processed_tweets</th>\n",
       "      <th>covid_hashtag</th>\n",
       "      <th>dummy_ones</th>\n",
       "      <th>user_created_year</th>\n",
       "      <th>user_created_month</th>\n",
       "      <th>user_created_day_of_week</th>\n",
       "      <th>user_created_hour</th>\n",
       "    </tr>\n",
       "  </thead>\n",
       "  <tbody>\n",
       "    <tr>\n",
       "      <th>0</th>\n",
       "      <td>111</td>\n",
       "      <td>0</td>\n",
       "      <td>32</td>\n",
       "      <td>2018-09-17 22:49:14</td>\n",
       "      <td>False</td>\n",
       "      <td>rt @jdfarag sun enter ‘lockdown’ period could ...</td>\n",
       "      <td>False</td>\n",
       "      <td>1.0</td>\n",
       "      <td>2018</td>\n",
       "      <td>9</td>\n",
       "      <td>0</td>\n",
       "      <td>22</td>\n",
       "    </tr>\n",
       "    <tr>\n",
       "      <th>1</th>\n",
       "      <td>0</td>\n",
       "      <td>0</td>\n",
       "      <td>974</td>\n",
       "      <td>2016-06-28 19:39:16</td>\n",
       "      <td>False</td>\n",
       "      <td>kenya pastoralists face hunger conflict locust...</td>\n",
       "      <td>False</td>\n",
       "      <td>1.0</td>\n",
       "      <td>2016</td>\n",
       "      <td>6</td>\n",
       "      <td>1</td>\n",
       "      <td>19</td>\n",
       "    </tr>\n",
       "    <tr>\n",
       "      <th>2</th>\n",
       "      <td>36</td>\n",
       "      <td>0</td>\n",
       "      <td>27</td>\n",
       "      <td>2010-05-29 12:41:00</td>\n",
       "      <td>False</td>\n",
       "      <td>rt @drvandanashiva essentialcommoditiesact use...</td>\n",
       "      <td>False</td>\n",
       "      <td>1.0</td>\n",
       "      <td>2010</td>\n",
       "      <td>5</td>\n",
       "      <td>5</td>\n",
       "      <td>12</td>\n",
       "    </tr>\n",
       "    <tr>\n",
       "      <th>3</th>\n",
       "      <td>0</td>\n",
       "      <td>0</td>\n",
       "      <td>836</td>\n",
       "      <td>2009-03-27 01:52:54</td>\n",
       "      <td>False</td>\n",
       "      <td>man could literally hunger entire world choose...</td>\n",
       "      <td>False</td>\n",
       "      <td>1.0</td>\n",
       "      <td>2009</td>\n",
       "      <td>3</td>\n",
       "      <td>4</td>\n",
       "      <td>1</td>\n",
       "    </tr>\n",
       "    <tr>\n",
       "      <th>4</th>\n",
       "      <td>7</td>\n",
       "      <td>0</td>\n",
       "      <td>375</td>\n",
       "      <td>2014-07-04 16:19:51</td>\n",
       "      <td>False</td>\n",
       "      <td>rt presidential april year president express c...</td>\n",
       "      <td>False</td>\n",
       "      <td>1.0</td>\n",
       "      <td>2014</td>\n",
       "      <td>7</td>\n",
       "      <td>4</td>\n",
       "      <td>16</td>\n",
       "    </tr>\n",
       "  </tbody>\n",
       "</table>\n",
       "</div>"
      ],
      "text/plain": [
       "   tweet_retweet_count  tweet_favourite_count  user_follow_count  \\\n",
       "0                  111                      0                 32   \n",
       "1                    0                      0                974   \n",
       "2                   36                      0                 27   \n",
       "3                    0                      0                836   \n",
       "4                    7                      0                375   \n",
       "\n",
       "      user_created_at  user_verified  \\\n",
       "0 2018-09-17 22:49:14          False   \n",
       "1 2016-06-28 19:39:16          False   \n",
       "2 2010-05-29 12:41:00          False   \n",
       "3 2009-03-27 01:52:54          False   \n",
       "4 2014-07-04 16:19:51          False   \n",
       "\n",
       "                                    processed_tweets  covid_hashtag  \\\n",
       "0  rt @jdfarag sun enter ‘lockdown’ period could ...          False   \n",
       "1  kenya pastoralists face hunger conflict locust...          False   \n",
       "2  rt @drvandanashiva essentialcommoditiesact use...          False   \n",
       "3  man could literally hunger entire world choose...          False   \n",
       "4  rt presidential april year president express c...          False   \n",
       "\n",
       "   dummy_ones  user_created_year  user_created_month  \\\n",
       "0         1.0               2018                   9   \n",
       "1         1.0               2016                   6   \n",
       "2         1.0               2010                   5   \n",
       "3         1.0               2009                   3   \n",
       "4         1.0               2014                   7   \n",
       "\n",
       "   user_created_day_of_week  user_created_hour  \n",
       "0                         0                 22  \n",
       "1                         1                 19  \n",
       "2                         5                 12  \n",
       "3                         4                  1  \n",
       "4                         4                 16  "
      ]
     },
     "execution_count": 8,
     "metadata": {},
     "output_type": "execute_result"
    }
   ],
   "source": [
    "# first cast a column of ones (will use for counting)\n",
    "tweets_df['dummy_ones'] = np.ones(len(tweets_df))\n",
    "\n",
    "# make column for user created month/year/day_of_week/hour\n",
    "tweets_df['user_created_year'] = tweets_df['user_created_at'].map(lambda x: x.year)\n",
    "tweets_df['user_created_month'] = tweets_df['user_created_at'].map(lambda x: x.month)\n",
    "tweets_df['user_created_day_of_week'] = tweets_df['user_created_at'].map(lambda x: x.dayofweek)\n",
    "tweets_df['user_created_hour'] = tweets_df['user_created_at'].map(lambda x: x.hour)\n",
    "\n",
    "tweets_df.head()"
   ]
  },
  {
   "cell_type": "code",
   "execution_count": 45,
   "metadata": {},
   "outputs": [
    {
     "data": {
      "image/png": "[encoded data removed]",
      "text/plain": [
       "<Figure size 432x288 with 1 Axes>"
      ]
     },
     "metadata": {
      "needs_background": "light"
     },
     "output_type": "display_data"
    },
    {
     "data": {
      "image/png": "[encoded data removed]",
      "text/plain": [
       "<Figure size 432x288 with 1 Axes>"
      ]
     },
     "metadata": {
      "needs_background": "light"
     },
     "output_type": "display_data"
    },
    {
     "data": {
      "image/png": "[encoded data removed]",
      "text/plain": [
       "<Figure size 432x288 with 1 Axes>"
      ]
     },
     "metadata": {
      "needs_background": "light"
     },
     "output_type": "display_data"
    },
    {
     "data": {
      "image/png": "[encoded data removed]",
      "text/plain": [
       "<Figure size 432x288 with 1 Axes>"
      ]
     },
     "metadata": {
      "needs_background": "light"
     },
     "output_type": "display_data"
    }
   ],
   "source": [
    "def barplot_groupby_labels_count(\n",
    "    dataframe: pd.DataFrame, \n",
    "    groupby_category: str, \n",
    "    count_column: str,\n",
    "    label_column:str\n",
    "    ):\n",
    "    \n",
    "    groupby_year = dataframe.groupby(groupby_category)[count_column].sum()\n",
    "    groupby_label = dataframe.groupby(groupby_category)[label_column].sum() # num true\n",
    "\n",
    "    groupby_df = pd.DataFrame([groupby_year, groupby_label]).T\n",
    "    groupby_df[f'non-{label_column}'] = groupby_df[count_column] - groupby_df[label_column]\n",
    "\n",
    "    groupby_df[[label_column, f'non-{label_column}',]].plot(kind='bar', stacked=True)\n",
    "    plt.ylabel('count')\n",
    "    plt.show()\n",
    "    \n",
    "\n",
    "group_by_categories = ['user_created_year', 'user_created_month', 'user_created_day_of_week', 'user_created_hour']\n",
    "\n",
    "for category in group_by_categories:\n",
    "    barplot_groupby_labels_count(tweets_df, category, 'dummy_ones', 'covid_hashtag')\n",
    "    "
   ]
  },
  {
   "cell_type": "markdown",
   "metadata": {},
   "source": [
    "Seems there is not much visible correlation between covid hashtag and when the user account was created. Nonetheless, we have engineered some columns and it may come in handly later for modelling, albeit unlikely but could be worth investigation. So drop original user created datetime column and proceed with processing the original tweets."
   ]
  },
  {
   "cell_type": "code",
   "execution_count": 46,
   "metadata": {},
   "outputs": [],
   "source": [
    "tweets_df = tweets_df.drop(['dummy_ones', 'user_created_at'], axis=1)"
   ]
  },
  {
   "cell_type": "markdown",
   "metadata": {},
   "source": [
    "We want to remove frequent and rare words from our processed tweets. First we should take a look at what words are frequent/rare to see what portion we may want to skim off.\n",
    "\n",
    "Ref:\n",
    "-  https://www.kaggle.com/sudalairajkumar/getting-started-with-text-preprocessing#Removal-of-Frequent-words"
   ]
  },
  {
   "cell_type": "code",
   "execution_count": null,
   "metadata": {},
   "outputs": [],
   "source": [
    "from collections import Counter\n",
    "cnt = Counter()\n",
    "for text in df[\"text_wo_stop\"].values:\n",
    "    for word in text.split():\n",
    "        cnt[word] += 1\n",
    "        \n",
    "cnt.most_common(10)"
   ]
  },
  {
   "cell_type": "code",
   "execution_count": 47,
   "metadata": {},
   "outputs": [
    {
     "data": {
      "text/html": [
       "<div>\n",
       "<style scoped>\n",
       "    .dataframe tbody tr th:only-of-type {\n",
       "        vertical-align: middle;\n",
       "    }\n",
       "\n",
       "    .dataframe tbody tr th {\n",
       "        vertical-align: top;\n",
       "    }\n",
       "\n",
       "    .dataframe thead th {\n",
       "        text-align: right;\n",
       "    }\n",
       "</style>\n",
       "<table border=\"1\" class=\"dataframe\">\n",
       "  <thead>\n",
       "    <tr style=\"text-align: right;\">\n",
       "      <th></th>\n",
       "      <th>tweet_retweet_count</th>\n",
       "      <th>tweet_favourite_count</th>\n",
       "      <th>user_follow_count</th>\n",
       "      <th>user_verified</th>\n",
       "      <th>processed_tweets</th>\n",
       "      <th>covid_hashtag</th>\n",
       "      <th>user_created_year</th>\n",
       "      <th>user_created_month</th>\n",
       "      <th>user_created_day_of_week</th>\n",
       "      <th>user_created_hour</th>\n",
       "    </tr>\n",
       "  </thead>\n",
       "  <tbody>\n",
       "    <tr>\n",
       "      <th>0</th>\n",
       "      <td>111</td>\n",
       "      <td>0</td>\n",
       "      <td>32</td>\n",
       "      <td>False</td>\n",
       "      <td>rt @jdfarag sun enter ‘lockdown’ period could ...</td>\n",
       "      <td>False</td>\n",
       "      <td>2018</td>\n",
       "      <td>9</td>\n",
       "      <td>0</td>\n",
       "      <td>22</td>\n",
       "    </tr>\n",
       "    <tr>\n",
       "      <th>1</th>\n",
       "      <td>0</td>\n",
       "      <td>0</td>\n",
       "      <td>974</td>\n",
       "      <td>False</td>\n",
       "      <td>kenya pastoralists face hunger conflict locust...</td>\n",
       "      <td>False</td>\n",
       "      <td>2016</td>\n",
       "      <td>6</td>\n",
       "      <td>1</td>\n",
       "      <td>19</td>\n",
       "    </tr>\n",
       "    <tr>\n",
       "      <th>2</th>\n",
       "      <td>36</td>\n",
       "      <td>0</td>\n",
       "      <td>27</td>\n",
       "      <td>False</td>\n",
       "      <td>rt @drvandanashiva essentialcommoditiesact use...</td>\n",
       "      <td>False</td>\n",
       "      <td>2010</td>\n",
       "      <td>5</td>\n",
       "      <td>5</td>\n",
       "      <td>12</td>\n",
       "    </tr>\n",
       "    <tr>\n",
       "      <th>3</th>\n",
       "      <td>0</td>\n",
       "      <td>0</td>\n",
       "      <td>836</td>\n",
       "      <td>False</td>\n",
       "      <td>man could literally hunger entire world choose...</td>\n",
       "      <td>False</td>\n",
       "      <td>2009</td>\n",
       "      <td>3</td>\n",
       "      <td>4</td>\n",
       "      <td>1</td>\n",
       "    </tr>\n",
       "    <tr>\n",
       "      <th>4</th>\n",
       "      <td>7</td>\n",
       "      <td>0</td>\n",
       "      <td>375</td>\n",
       "      <td>False</td>\n",
       "      <td>rt presidential april year president express c...</td>\n",
       "      <td>False</td>\n",
       "      <td>2014</td>\n",
       "      <td>7</td>\n",
       "      <td>4</td>\n",
       "      <td>16</td>\n",
       "    </tr>\n",
       "  </tbody>\n",
       "</table>\n",
       "</div>"
      ],
      "text/plain": [
       "   tweet_retweet_count  tweet_favourite_count  user_follow_count  \\\n",
       "0                  111                      0                 32   \n",
       "1                    0                      0                974   \n",
       "2                   36                      0                 27   \n",
       "3                    0                      0                836   \n",
       "4                    7                      0                375   \n",
       "\n",
       "   user_verified                                   processed_tweets  \\\n",
       "0          False  rt @jdfarag sun enter ‘lockdown’ period could ...   \n",
       "1          False  kenya pastoralists face hunger conflict locust...   \n",
       "2          False  rt @drvandanashiva essentialcommoditiesact use...   \n",
       "3          False  man could literally hunger entire world choose...   \n",
       "4          False  rt presidential april year president express c...   \n",
       "\n",
       "   covid_hashtag  user_created_year  user_created_month  \\\n",
       "0          False               2018                   9   \n",
       "1          False               2016                   6   \n",
       "2          False               2010                   5   \n",
       "3          False               2009                   3   \n",
       "4          False               2014                   7   \n",
       "\n",
       "   user_created_day_of_week  user_created_hour  \n",
       "0                         0                 22  \n",
       "1                         1                 19  \n",
       "2                         5                 12  \n",
       "3                         4                  1  \n",
       "4                         4                 16  "
      ]
     },
     "execution_count": 47,
     "metadata": {},
     "output_type": "execute_result"
    }
   ],
   "source": [
    "tweets_df.head()"
   ]
  },
  {
   "cell_type": "code",
   "execution_count": null,
   "metadata": {},
   "outputs": [],
   "source": []
  }
 ],
 "metadata": {
  "kernelspec": {
   "display_name": "Python 3",
   "language": "python",
   "name": "python3"
  },
  "language_info": {
   "codemirror_mode": {
    "name": "ipython",
    "version": 3
   },
   "file_extension": ".py",
   "mimetype": "text/x-python",
   "name": "python",
   "nbconvert_exporter": "python",
   "pygments_lexer": "ipython3",
   "version": "3.8.2"
  }
 },
 "nbformat": 4,
 "nbformat_minor": 4
}
